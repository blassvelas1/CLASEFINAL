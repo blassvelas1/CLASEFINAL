{
 "cells": [
  {
   "cell_type": "markdown",
   "metadata": {},
   "source": [
    "# Web Scraping con Beautiful Soup.\n",
    "\n",
    "* * * \n",
    "\n",
    "### Iconos utilizados en este cuaderno\n",
    "🔔 **Pregunta**: Una pregunta rápida para ayudarte a entender lo que está pasando.<br>\n",
    "🥊 **Desafío**: Ejercicio interactivo. ¡Trabajaremos en estos durante el taller!<br>\n",
    "⚠️ **Advertencia**: Aviso sobre cosas complicadas o errores comunes.<br>\n",
    "💡 **Consejo**: Cómo hacer algo de manera más eficiente o efectiva.<br>\n",
    "🎬 **Demostración**: Mostrar algo más avanzado, para que sepas para qué se puede usar Python.<br>\n",
    "\n",
    "### Objetivos de aprendizaje\n",
    "1. [Reflexión: ¿Raspado o no raspado?](#when)\n",
    "2. [Extracción y análisis de HTML](#extract)\n",
    "3. [Raspado de la Asamblea General de Illinois](#scrape)\n"
   ]
  },
  {
   "cell_type": "markdown",
   "metadata": {},
   "source": [
    "<a id='when'></a>\n",
    "\n",
    "# Scrape o no Scrape\n",
    "\n",
    "Cuando queremos acceder a datos de la web, primero debemos asegurarnos de si el sitio web que nos interesa ofrece una API web. Plataformas como Twitter, Reddit y el New York Times ofrecen APIs. **Consulta el taller de APIs web de [Python de D-Labs](https://github.com/dlab-berkeley/Python-Web-APIs) si quieres aprender a usar APIs.**\n",
    "\n",
    "Sin embargo, a menudo hay casos en los que no existe una API web. En estos casos, podemos recurrir al web scraping, donde extraemos el HTML subyacente de una página web y obtenemos directamente la información que queremos. Hay varios paquetes en Python que podemos usar para realizar estas tareas. Nos centraremos en dos paquetes: Requests y Beautiful Soup.\n",
    "\n",
    "Nuestro estudio de caso será raspar información sobre los [senadores estatales de Illinois](http://www.ilga.gov/senate), así como la [lista de proyectos de ley](http://www.ilga.gov/senate/SenatorBills.asp?MemberID=1911&GA=98&Primary=True) que cada senador ha patrocinado. Antes de comenzar, revisa estos sitios web para ver su estructura.\n"
   ]
  },
  {
   "cell_type": "markdown",
   "metadata": {},
   "source": [
    "\n",
    "\n",
    "## Instalación\n",
    "\n",
    "Usaremos dos paquetes principales: [Requests](http://docs.python-requests.org/en/latest/user/quickstart/) y [Beautiful Soup](http://www.crummy.com/software/BeautifulSoup/bs4/doc/). Adelante, instala estos paquetes si aún no lo has hecho:\n"
   ]
  },
  {
   "cell_type": "code",
   "execution_count": 1,
   "metadata": {},
   "outputs": [
    {
     "name": "stdout",
     "output_type": "stream",
     "text": [
      "Requirement already satisfied: requests in /opt/conda/lib/python3.12/site-packages (2.32.3)\n",
      "Requirement already satisfied: charset-normalizer<4,>=2 in /opt/conda/lib/python3.12/site-packages (from requests) (3.3.2)\n",
      "Requirement already satisfied: idna<4,>=2.5 in /opt/conda/lib/python3.12/site-packages (from requests) (3.7)\n",
      "Requirement already satisfied: urllib3<3,>=1.21.1 in /opt/conda/lib/python3.12/site-packages (from requests) (2.2.3)\n",
      "Requirement already satisfied: certifi>=2017.4.17 in /opt/conda/lib/python3.12/site-packages (from requests) (2025.1.31)\n",
      "Note: you may need to restart the kernel to use updated packages.\n"
     ]
    }
   ],
   "source": [
    "%pip install requests"
   ]
  },
  {
   "cell_type": "code",
   "execution_count": 2,
   "metadata": {},
   "outputs": [
    {
     "name": "stdout",
     "output_type": "stream",
     "text": [
      "Requirement already satisfied: beautifulsoup4 in /opt/conda/lib/python3.12/site-packages (4.12.3)\n",
      "Requirement already satisfied: soupsieve>1.2 in /opt/conda/lib/python3.12/site-packages (from beautifulsoup4) (2.5)\n",
      "Note: you may need to restart the kernel to use updated packages.\n"
     ]
    }
   ],
   "source": [
    "%pip install beautifulsoup4"
   ]
  },
  {
   "cell_type": "markdown",
   "metadata": {},
   "source": [
    "También instalaremos el paquete `lxml` que ayuda a soportar parte del análisis que realiza Beautiful Soup:"
   ]
  },
  {
   "cell_type": "code",
   "execution_count": 3,
   "metadata": {},
   "outputs": [
    {
     "name": "stdout",
     "output_type": "stream",
     "text": [
      "Requirement already satisfied: lxml in /opt/conda/lib/python3.12/site-packages (5.2.1)\n",
      "Note: you may need to restart the kernel to use updated packages.\n"
     ]
    }
   ],
   "source": [
    "%pip install lxml"
   ]
  },
  {
   "cell_type": "code",
   "execution_count": 4,
   "metadata": {
    "tags": []
   },
   "outputs": [],
   "source": [
    "# Import required libraries\n",
    "from bs4 import BeautifulSoup\n",
    "from datetime import datetime\n",
    "import requests\n",
    "import time"
   ]
  },
  {
   "cell_type": "markdown",
   "metadata": {},
   "source": [
    "<a id='extract'></a>\n",
    "\n",
    "# Extracción y Análisis de HTML \n",
    "\n",
    "Para realizar correctamente la extracción y el análisis de HTML, seguiremos los siguientes 4 pasos:\n",
    "1. Realizar una solicitud GET\n",
    "2. Analizar la página con Beautiful Soup\n",
    "3. Buscar elementos HTML\n",
    "4. Obtener atributos y texto de estos elementos"
   ]
  },
  {
   "cell_type": "markdown",
   "metadata": {},
   "source": [
    "## Paso 1: Realizar una Solicitud GET para Obtener el HTML de una Página\n",
    "\n",
    "Podemos usar la biblioteca Requests para:\n",
    "\n",
    "1. Hacer una solicitud GET a la página, y  \n",
    "2. Leer el código HTML de la página web.\n",
    "\n",
    "El proceso de realizar una solicitud y obtener un resultado se asemeja al flujo de trabajo de una API web. Sin embargo, en este caso, estamos haciendo una solicitud directamente al sitio web, y tendremos que analizar el HTML por nuestra cuenta. Esto contrasta con recibir datos organizados en un formato más sencillo como `JSON` o `XML`.\n"
   ]
  },
  {
   "cell_type": "code",
   "execution_count": 5,
   "metadata": {
    "tags": []
   },
   "outputs": [],
   "source": [
    "# Make a GET request\n",
    "req = requests.get('https://www.ilga.gov/senate/committees/default.asp')\n",
    "# Read the content of the server’s response\n",
    "src = req.text\n",
    "# Parse the response into an HTML tree\n",
    "soup = BeautifulSoup(src, 'lxml')"
   ]
  },
  {
   "cell_type": "markdown",
   "metadata": {},
   "source": [
    "## Paso 2: Analizar la Página con Beautiful Soup\n",
    "\n",
    "Ahora utilizamos la función `BeautifulSoup` para analizar la respuesta y convertirla en un árbol HTML. Esto devuelve un objeto (llamado **soup object**) que contiene todo el HTML del documento original.\n",
    "\n",
    "Si encuentras un error relacionado con una biblioteca de análisis, asegúrate de haber instalado el paquete `lxml` para proporcionar a Beautiful Soup las herramientas necesarias para el análisis."
   ]
  },
  {
   "cell_type": "code",
   "execution_count": 6,
   "metadata": {},
   "outputs": [
    {
     "name": "stdout",
     "output_type": "stream",
     "text": [
      "<html lang=\"en\">\n",
      " <!-- Trigger/Open The Modal -->\n",
      " <body>\n",
      "  <div style=\"position: fixed; z-index: 999; top: 5; left: 600; background-color: navy; display: block\">\n",
      "   <button id=\"myBtn\" style=\"color: white; background-color: navy; display: block\">\n",
      "    Translate Website\n",
      "   </button>\n",
      "  </div>\n",
      "  <!-- The Modal -->\n",
      "  <div class=\"modal\" id=\"myModal\" style=\"display: none\">\n",
      "   <!-- Modal content -->\n",
      "   <div class=\"modal-content\">\n",
      "    <div class=\"modal-header\">\n",
      "     <h3>\n",
      "      <span class=\"close\">\n",
      "       ×\n",
      "      </span>\n",
      "     </h3>\n",
      "    </div>\n",
      "    <p>\n",
      "     The Illinois General Assembly offers the Google Translate service for visitor convenience. In no way should it be considered accurate as to the translation of any content herein.\n",
      "    </p>\n",
      "    <p>\n",
      "     Visitors of the Illinois General Assembly website are encouraged to use other translation services available on the internet.\n",
      "    </p>\n",
      "    <p>\n",
      "     The English language version is always the official and authoritative version of this website.\n",
      "   \n"
     ]
    }
   ],
   "source": [
    "# Parse the response into an HTML tree\n",
    "soup = BeautifulSoup(src, 'lxml')\n",
    "# Take a look\n",
    "print(soup.prettify()[:1000])"
   ]
  },
  {
   "cell_type": "markdown",
   "metadata": {},
   "source": [
    "La salida se ve bastante similar a la anterior, pero ahora está organizada en un objeto `soup`, lo que nos permite recorrer la página con mayor facilidad.\n"
   ]
  },
  {
   "cell_type": "markdown",
   "metadata": {},
   "source": [
    "## Paso 3: Buscar Elementos HTML\n",
    "\n",
    "Beautiful Soup ofrece varias funciones para encontrar componentes útiles en una página. Permite buscar elementos utilizando:\n",
    "\n",
    "1. Etiquetas HTML  \n",
    "2. Atributos HTML  \n",
    "3. Selectores CSS  \n",
    "\n",
    "Primero, busquemos **etiquetas HTML**.  \n",
    "\n",
    "La función `find_all` busca en el árbol de `soup` todos los elementos con una etiqueta HTML específica y devuelve todos esos elementos.\n",
    "\n",
    "**¿Qué hace el siguiente ejemplo?**\n",
    "\n"
   ]
  },
  {
   "cell_type": "code",
   "execution_count": 7,
   "metadata": {},
   "outputs": [
    {
     "name": "stdout",
     "output_type": "stream",
     "text": [
      "[<a class=\"goog-logo-link\" href=\"https://translate.google.com\" target=\"_blank\"><img alt=\"Google Translate\" height=\"14\" src=\"https://www.gstatic.com/images/branding/googlelogo/1x/googlelogo_color_42x16dp.png\" style=\"padding-right: 3px;\" width=\"37\"/>Translate</a>, <a href=\"/default.asp\"><img alt=\"Illinois General Assembly\" border=\"0\" height=\"49\" src=\"/images/logo_sm.gif\" width=\"462\"/></a>, <a class=\"mainmenu\" href=\"/\">Home</a>, <a class=\"mainmenu\" href=\"/legislation/\" onblur=\"HM_f_PopDown('elMenu1')\" onfocus=\"HM_f_PopUp('elMenu1',event)\" onmouseout=\"HM_f_PopDown('elMenu1')\" onmouseover=\"HM_f_PopUp('elMenu1',event)\">Legislation &amp; Laws</a>, <a class=\"mainmenu\" href=\"/senate/\" onblur=\"HM_f_PopDown('elMenu3')\" onfocus=\"HM_f_PopUp('elMenu3',event)\" onmouseout=\"HM_f_PopDown('elMenu3')\" onmouseover=\"HM_f_PopUp('elMenu3',event)\">Senate</a>, <a class=\"mainmenu\" href=\"/house/\" onblur=\"HM_f_PopDown('elMenu2')\" onfocus=\"HM_f_PopUp('elMenu2',event)\" onmouseout=\"HM_f_PopDown('elMenu2')\" onmouseover=\"HM_f_PopUp('elMenu2',event)\">House</a>, <a class=\"mainmenu\" href=\"/mylegislation/\" onblur=\"HM_f_PopDown('elMenu4')\" onfocus=\"HM_f_PopUp('elMenu4',event)\" onmouseout=\"HM_f_PopDown('elMenu4')\" onmouseover=\"HM_f_PopUp('elMenu4',event)\">My Legislation</a>, <a class=\"mainmenu\" href=\"/sitemap.asp\">Site Map</a>, <a class=\"sidemenu\" href=\"/senate/default.asp\">  Members  </a>, <a class=\"sidemenu\" href=\"/senate/committees/default.asp\">  Committees  </a>]\n"
     ]
    }
   ],
   "source": [
    "# Find all elements with a certain tag\n",
    "a_tags = soup.find_all(\"a\")\n",
    "print(a_tags[:10])"
   ]
  },
  {
   "cell_type": "markdown",
   "metadata": {},
   "source": [
    "Dado que `find_all()` es el método más popular en la API de búsqueda de Beautiful Soup, existe un atajo para usarlo. Si tratas al objeto `BeautifulSoup` como si fuera una función, es equivalente a llamar a `find_all()` en ese objeto.\n",
    "\n",
    "Estas dos líneas de código son equivalentes:"
   ]
  },
  {
   "cell_type": "code",
   "execution_count": 8,
   "metadata": {
    "tags": []
   },
   "outputs": [
    {
     "name": "stdout",
     "output_type": "stream",
     "text": [
      "<a class=\"goog-logo-link\" href=\"https://translate.google.com\" target=\"_blank\"><img alt=\"Google Translate\" height=\"14\" src=\"https://www.gstatic.com/images/branding/googlelogo/1x/googlelogo_color_42x16dp.png\" style=\"padding-right: 3px;\" width=\"37\"/>Translate</a>\n",
      "<a class=\"goog-logo-link\" href=\"https://translate.google.com\" target=\"_blank\"><img alt=\"Google Translate\" height=\"14\" src=\"https://www.gstatic.com/images/branding/googlelogo/1x/googlelogo_color_42x16dp.png\" style=\"padding-right: 3px;\" width=\"37\"/>Translate</a>\n"
     ]
    }
   ],
   "source": [
    "a_tags = soup.find_all(\"a\")\n",
    "a_tags_alt = soup(\"a\")\n",
    "print(a_tags[0])\n",
    "print(a_tags_alt[0])"
   ]
  },
  {
   "cell_type": "markdown",
   "metadata": {},
   "source": [
    "¿Cuántos enlaces obtuvimos?"
   ]
  },
  {
   "cell_type": "code",
   "execution_count": 9,
   "metadata": {},
   "outputs": [
    {
     "name": "stdout",
     "output_type": "stream",
     "text": [
      "155\n"
     ]
    }
   ],
   "source": [
    "print(len(a_tags))"
   ]
  },
  {
   "cell_type": "markdown",
   "metadata": {},
   "source": [
    "¡Eso es mucho! Muchos elementos en una página tendrán la misma etiqueta HTML. Por ejemplo, si buscas todo lo que tenga la etiqueta `a`, probablemente obtendrás muchos resultados, muchos de los cuales quizás no quieras. Recuerda que la etiqueta `a` define un hipervínculo, por lo que generalmente encontrarás muchos en cualquier página.\n",
    "\n",
    "¿Qué pasa si queremos buscar etiquetas HTML con ciertos atributos, como clases CSS específicas?\n",
    "\n",
    "Podemos hacerlo agregando un argumento adicional a la función `find_all`. En el ejemplo siguiente, estamos encontrando todas las etiquetas `a` y luego filtrando aquellas con `class_=\"sidemenu\"`:\n"
   ]
  },
  {
   "cell_type": "code",
   "execution_count": 10,
   "metadata": {
    "tags": []
   },
   "outputs": [
    {
     "data": {
      "text/plain": [
       "[<a class=\"sidemenu\" href=\"/senate/default.asp\">  Members  </a>,\n",
       " <a class=\"sidemenu\" href=\"/senate/committees/default.asp\">  Committees  </a>,\n",
       " <a class=\"sidemenu\" href=\"/senate/schedules/default.asp\">  Schedules  </a>,\n",
       " <a class=\"sidemenu\" href=\"/senate/journals/default.asp\">  Journals  </a>,\n",
       " <a class=\"sidemenu\" href=\"/senate/transcripts/default.asp\">  Transcripts  </a>]"
      ]
     },
     "execution_count": 10,
     "metadata": {},
     "output_type": "execute_result"
    }
   ],
   "source": [
    "# Get only the 'a' tags in 'sidemenu' class\n",
    "side_menus = soup(\"a\", class_=\"sidemenu\")\n",
    "side_menus[:5]"
   ]
  },
  {
   "cell_type": "markdown",
   "metadata": {},
   "source": [
    "Una forma más eficiente de buscar elementos en un sitio web es a través de un **selector CSS**. Para esto, debemos usar un método diferente llamado `select()`. Solo tienes que pasar una cadena al método `.select()` para obtener todos los elementos que coincidan con ese selector CSS válido.\n",
    "\n",
    "En el ejemplo anterior, podemos usar `\"a.sidemenu\"` como selector CSS, lo que devuelve todas las etiquetas `a` con la clase `sidemenu`.\n",
    "\n"
   ]
  },
  {
   "cell_type": "code",
   "execution_count": 11,
   "metadata": {
    "tags": []
   },
   "outputs": [
    {
     "data": {
      "text/plain": [
       "[<a class=\"sidemenu\" href=\"/senate/default.asp\">  Members  </a>,\n",
       " <a class=\"sidemenu\" href=\"/senate/committees/default.asp\">  Committees  </a>,\n",
       " <a class=\"sidemenu\" href=\"/senate/schedules/default.asp\">  Schedules  </a>,\n",
       " <a class=\"sidemenu\" href=\"/senate/journals/default.asp\">  Journals  </a>,\n",
       " <a class=\"sidemenu\" href=\"/senate/transcripts/default.asp\">  Transcripts  </a>]"
      ]
     },
     "execution_count": 11,
     "metadata": {},
     "output_type": "execute_result"
    }
   ],
   "source": [
    "# Get elements with \"a.sidemenu\" CSS Selector.\n",
    "selected = soup.select(\"a.sidemenu\")\n",
    "selected[:5]"
   ]
  },
  {
   "cell_type": "markdown",
   "metadata": {},
   "source": [
    "## 🥊 Desafío: Encontrar Todos\n",
    "\n",
    "Usa BeautifulSoup para encontrar todos los elementos `a` con la clase `mainmenu`."
   ]
  },
  {
   "cell_type": "code",
   "execution_count": 12,
   "metadata": {},
   "outputs": [
    {
     "data": {
      "text/plain": [
       "[<a class=\"mainmenu\" href=\"/\">Home</a>,\n",
       " <a class=\"mainmenu\" href=\"/legislation/\" onblur=\"HM_f_PopDown('elMenu1')\" onfocus=\"HM_f_PopUp('elMenu1',event)\" onmouseout=\"HM_f_PopDown('elMenu1')\" onmouseover=\"HM_f_PopUp('elMenu1',event)\">Legislation &amp; Laws</a>,\n",
       " <a class=\"mainmenu\" href=\"/senate/\" onblur=\"HM_f_PopDown('elMenu3')\" onfocus=\"HM_f_PopUp('elMenu3',event)\" onmouseout=\"HM_f_PopDown('elMenu3')\" onmouseover=\"HM_f_PopUp('elMenu3',event)\">Senate</a>,\n",
       " <a class=\"mainmenu\" href=\"/house/\" onblur=\"HM_f_PopDown('elMenu2')\" onfocus=\"HM_f_PopUp('elMenu2',event)\" onmouseout=\"HM_f_PopDown('elMenu2')\" onmouseover=\"HM_f_PopUp('elMenu2',event)\">House</a>,\n",
       " <a class=\"mainmenu\" href=\"/mylegislation/\" onblur=\"HM_f_PopDown('elMenu4')\" onfocus=\"HM_f_PopUp('elMenu4',event)\" onmouseout=\"HM_f_PopDown('elMenu4')\" onmouseover=\"HM_f_PopUp('elMenu4',event)\">My Legislation</a>,\n",
       " <a class=\"mainmenu\" href=\"/sitemap.asp\">Site Map</a>]"
      ]
     },
     "execution_count": 12,
     "metadata": {},
     "output_type": "execute_result"
    }
   ],
   "source": [
    "# YOUR CODE HERE\n",
    "soup.select(\"a.mainmenu\")"
   ]
  },
  {
   "cell_type": "code",
   "execution_count": 13,
   "metadata": {},
   "outputs": [
    {
     "data": {
      "text/plain": [
       "['/',\n",
       " '/legislation/',\n",
       " '/senate/',\n",
       " '/house/',\n",
       " '/mylegislation/',\n",
       " '/sitemap.asp']"
      ]
     },
     "execution_count": 13,
     "metadata": {},
     "output_type": "execute_result"
    }
   ],
   "source": [
    "[link['href'] for link in soup.select(\"a.mainmenu\")]"
   ]
  },
  {
   "cell_type": "markdown",
   "metadata": {},
   "source": [
    "## Paso 4: Obtener Atributos y Texto de los Elementos\n",
    "\n",
    "Una vez que identificamos los elementos, queremos acceder a la información dentro de ellos. Generalmente, esto significa dos cosas:\n",
    "\n",
    "1. Texto  \n",
    "2. Atributos  \n",
    "\n",
    "Obtener el texto dentro de un elemento es fácil. Todo lo que tenemos que hacer es usar el miembro `text` de un objeto `tag`:"
   ]
  },
  {
   "cell_type": "code",
   "execution_count": 17,
   "metadata": {
    "tags": []
   },
   "outputs": [
    {
     "name": "stdout",
     "output_type": "stream",
     "text": [
      "<a class=\"sidemenu\" href=\"/senate/default.asp\">  Members  </a>\n",
      "Class:  <class 'bs4.element.Tag'>\n"
     ]
    }
   ],
   "source": [
    "# Get all sidemenu links as a list\n",
    "side_menu_links = soup.select(\"a.sidemenu\")\n",
    "\n",
    "# Examine the first link\n",
    "first_link = side_menu_links[0]\n",
    "print(first_link)\n",
    "\n",
    "# What class is this variable?\n",
    "print('Class: ', type(first_link))"
   ]
  },
  {
   "cell_type": "markdown",
   "metadata": {},
   "source": [
    "¡Es una etiqueta de Beautiful Soup! Esto significa que tiene un miembro `text`:"
   ]
  },
  {
   "cell_type": "code",
   "execution_count": 18,
   "metadata": {
    "tags": []
   },
   "outputs": [
    {
     "name": "stdout",
     "output_type": "stream",
     "text": [
      "  Members  \n"
     ]
    }
   ],
   "source": [
    "print(first_link.text)"
   ]
  },
  {
   "cell_type": "markdown",
   "metadata": {},
   "source": [
    "A veces queremos obtener el valor de ciertos atributos. Esto es particularmente relevante para las etiquetas `a`, o enlaces, donde el atributo `href` nos indica a dónde lleva el enlace.\n",
    "\n",
    "💡 **Consejo**: Puedes acceder a los atributos de una etiqueta tratándola como un diccionario:"
   ]
  },
  {
   "cell_type": "code",
   "execution_count": 19,
   "metadata": {
    "tags": []
   },
   "outputs": [
    {
     "name": "stdout",
     "output_type": "stream",
     "text": [
      "/senate/default.asp\n"
     ]
    }
   ],
   "source": [
    "print(first_link['href'])"
   ]
  },
  {
   "cell_type": "markdown",
   "metadata": {},
   "source": [
    "## 🥊 Desafío: Extraer atributos específicos\n",
    "\n",
    "Extrae todos los atributos `href` de cada URL con la clase `mainmenu`."
   ]
  },
  {
   "cell_type": "code",
   "execution_count": 20,
   "metadata": {},
   "outputs": [
    {
     "data": {
      "text/plain": [
       "['/',\n",
       " '/legislation/',\n",
       " '/senate/',\n",
       " '/house/',\n",
       " '/mylegislation/',\n",
       " '/sitemap.asp']"
      ]
     },
     "execution_count": 20,
     "metadata": {},
     "output_type": "execute_result"
    }
   ],
   "source": [
    "# YOUR CODE HERE\n",
    "[link['href'] for link in soup.select(\"a.mainmenu\")]"
   ]
  },
  {
   "cell_type": "markdown",
   "metadata": {},
   "source": [
    "<a id='scrape'></a>\n",
    "\n",
    "# Arrastrando la Asamblea General de Illinois\n",
    "Aunque parezca increíble, estas son las herramientas fundamentales para arrastrar un sitio web. Una vez que dediques más tiempo a familiarizarte con HTML y CSS, simplemente será cuestión de comprender la estructura de un sitio web en particular y aplicar inteligentemente las herramientas de Beautiful Soup y Python.\n",
    "\n",
    "Apliquemos estas habilidades para arrastrar la [98.ª Asamblea General de Illinois](http://www.ilga.gov/senate/default.asp?GA=98)..\n",
    "\n",
    "En concreto, nuestro objetivo es arrastrar información sobre cada senador, incluyendo su nombre, distrito y partido."
   ]
  },
  {
   "cell_type": "markdown",
   "metadata": {},
   "source": [
    "## Arrastrar y Disolver la página web\n",
    "\n",
    "Arrastrar y Analizar la página web con las herramientas que aprendimos en la sección anterior."
   ]
  },
  {
   "cell_type": "code",
   "execution_count": 32,
   "metadata": {
    "tags": []
   },
   "outputs": [],
   "source": [
    "# Make a GET request\n",
    "req = requests.get('https://www.ilga.gov/house/default.asp?GA=104')\n",
    "# Read the content of the server’s response\n",
    "src = req.text\n",
    "# Soup it\n",
    "soup = BeautifulSoup(src, \"lxml\")"
   ]
  },
  {
   "cell_type": "markdown",
   "metadata": {},
   "source": [
    "## Buscar los elementos de la tabla\n",
    "\n",
    "Nuestro objetivo es obtener los elementos de la tabla en la página web. Recuerda: las filas se identifican con la etiqueta `tr`. Usaremos `find_all` para obtener estos elementos."
   ]
  },
  {
   "cell_type": "code",
   "execution_count": 33,
   "metadata": {},
   "outputs": [
    {
     "data": {
      "text/plain": [
       "136"
      ]
     },
     "execution_count": 33,
     "metadata": {},
     "output_type": "execute_result"
    }
   ],
   "source": [
    "# Get all table row elements\n",
    "rows = soup.find_all(\"tr\")\n",
    "len(rows)"
   ]
  },
  {
   "cell_type": "markdown",
   "metadata": {},
   "source": [
    "⚠️ **Advertencia**: Recuerda: `find_all` obtiene todos los elementos con la etiqueta `tr`. Solo necesitamos algunos. Si usamos la función \"Inspeccionar\" en Google Chrome y observamos con atención, podemos usar selectores CSS para obtener solo las filas que nos interesan. En concreto, queremos las filas internas de la tabla:"
   ]
  },
  {
   "cell_type": "code",
   "execution_count": 34,
   "metadata": {},
   "outputs": [
    {
     "name": "stdout",
     "output_type": "stream",
     "text": [
      "<tr><td colspan=\"5\">\n",
      "<span class=\"heading\">Current House Members</span>\n",
      "<span class=\"italics\">  104th General Assembly</span><br/>\n",
      "<!--Removed link for Current only temporarily at rollover- please leave Previous check in so at next rollover it still shows for previous ga-->\n",
      "<span class=\"content\"> <a href=\"104th_House_Officers.pdf\">Officers of the General Assembly</a></span><br/><span class=\"content\"><b>Democrats:</b> 78   <b>Republicans:</b> 40</span><br/>\n",
      "</td></tr> \n",
      "\n",
      "<tr>\n",
      "<td class=\"header\" width=\"45%\"><a class=\"filetab\" href=\"javascript:Sort('LastName','',104);\" title=\"Sort by Representative\">Representative</a></td>\n",
      "<td align=\"center\" class=\"header\" width=\"15%\">Bills</td>\n",
      "<td align=\"center\" class=\"header\" width=\"10%\">Committees</td>\n",
      "<td align=\"center\" class=\"header\" width=\"15%\"><a class=\"filetab\" href=\"javascript:Sort('DistrictNumber','',104);\" title=\"Sort by District\">District</a></td>\n",
      "<td align=\"center\" class=\"header\" width=\"15%\"><a class=\"filetab\" href=\"javascript:Sort('Party','',104);\" title=\"Sort by Party\">Party</a></td>\n",
      "</tr> \n",
      "\n",
      "<tr><td bgcolor=\"white\" class=\"detail\" width=\"40%\"><a class=\"notranslate\" href=\"/house/Rep.asp?GA=104&amp;MemberID=3309\">Carol Ammons</a></td><td align=\"center\" bgcolor=\"white\" class=\"detail\" width=\"15%\"><a href=\"RepBills.asp?MemberID=3309\">Bills</a></td><td align=\"center\" bgcolor=\"white\" class=\"detail\" width=\"15%\"><a href=\"RepCommittees.asp?MemberID=3309\">Committees</a></td><td align=\"center\" bgcolor=\"white\" class=\"notranslate detail\" width=\"15%\">103</td><td align=\"center\" bgcolor=\"white\" class=\"notranslate detail\" width=\"15%\">D</td></tr> \n",
      "\n",
      "<tr><td bgcolor=\"EBEBEB\" class=\"detail\" width=\"40%\"><a class=\"notranslate\" href=\"/house/Rep.asp?GA=104&amp;MemberID=3307\">Jaime M. Andrade, Jr.</a></td><td align=\"center\" bgcolor=\"EBEBEB\" class=\"detail\" width=\"15%\"><a href=\"RepBills.asp?MemberID=3307\">Bills</a></td><td align=\"center\" bgcolor=\"EBEBEB\" class=\"detail\" width=\"15%\"><a href=\"RepCommittees.asp?MemberID=3307\">Committees</a></td><td align=\"center\" bgcolor=\"EBEBEB\" class=\"notranslate detail\" width=\"15%\">40</td><td align=\"center\" bgcolor=\"EBEBEB\" class=\"notranslate detail\" width=\"15%\">D</td></tr> \n",
      "\n",
      "<tr><td bgcolor=\"white\" class=\"detail\" width=\"40%\"><a class=\"notranslate\" href=\"/house/Rep.asp?GA=104&amp;MemberID=3391\">Dagmara Avelar</a></td><td align=\"center\" bgcolor=\"white\" class=\"detail\" width=\"15%\"><a href=\"RepBills.asp?MemberID=3391\">Bills</a></td><td align=\"center\" bgcolor=\"white\" class=\"detail\" width=\"15%\"><a href=\"RepCommittees.asp?MemberID=3391\">Committees</a></td><td align=\"center\" bgcolor=\"white\" class=\"notranslate detail\" width=\"15%\">85</td><td align=\"center\" bgcolor=\"white\" class=\"notranslate detail\" width=\"15%\">D</td></tr> \n",
      "\n"
     ]
    }
   ],
   "source": [
    "# Returns every ‘tr tr tr’ css selector in the page\n",
    "rows = soup.select('tr tr tr')\n",
    "\n",
    "for row in rows[:5]:\n",
    "    print(row, '\\n')"
   ]
  },
  {
   "cell_type": "markdown",
   "metadata": {},
   "source": [
    "Parece que queremos todo lo que queda después de las dos primeras filas. Empecemos con una sola fila y construyamos nuestro bucle a partir de ahí."
   ]
  },
  {
   "cell_type": "code",
   "execution_count": 35,
   "metadata": {},
   "outputs": [
    {
     "name": "stdout",
     "output_type": "stream",
     "text": [
      "<tr>\n",
      " <td bgcolor=\"white\" class=\"detail\" width=\"40%\">\n",
      "  <a class=\"notranslate\" href=\"/house/Rep.asp?GA=104&amp;MemberID=3309\">\n",
      "   Carol Ammons\n",
      "  </a>\n",
      " </td>\n",
      " <td align=\"center\" bgcolor=\"white\" class=\"detail\" width=\"15%\">\n",
      "  <a href=\"RepBills.asp?MemberID=3309\">\n",
      "   Bills\n",
      "  </a>\n",
      " </td>\n",
      " <td align=\"center\" bgcolor=\"white\" class=\"detail\" width=\"15%\">\n",
      "  <a href=\"RepCommittees.asp?MemberID=3309\">\n",
      "   Committees\n",
      "  </a>\n",
      " </td>\n",
      " <td align=\"center\" bgcolor=\"white\" class=\"notranslate detail\" width=\"15%\">\n",
      "  103\n",
      " </td>\n",
      " <td align=\"center\" bgcolor=\"white\" class=\"notranslate detail\" width=\"15%\">\n",
      "  D\n",
      " </td>\n",
      "</tr>\n",
      "\n"
     ]
    }
   ],
   "source": [
    "example_row = rows[2]\n",
    "print(example_row.prettify())"
   ]
  },
  {
   "cell_type": "markdown",
   "metadata": {},
   "source": [
    "Desglosemos esta fila en sus celdas/columnas mediante el método `select` con los métodos CSS. Si analizamos el HTML con atención, hay un par de maneras de hacerlo.\n",
    "\n",
    "* Podríamos identificar las celdas por su etiqueta `td`.\n",
    "* Podríamos usar el nombre de clase `.detail`.\n",
    "* Podríamos combinar ambos y usar el selector `td.detail`."
   ]
  },
  {
   "cell_type": "code",
   "execution_count": 36,
   "metadata": {},
   "outputs": [
    {
     "name": "stdout",
     "output_type": "stream",
     "text": [
      "<td bgcolor=\"white\" class=\"detail\" width=\"40%\"><a class=\"notranslate\" href=\"/house/Rep.asp?GA=104&amp;MemberID=3309\">Carol Ammons</a></td>\n",
      "<td align=\"center\" bgcolor=\"white\" class=\"detail\" width=\"15%\"><a href=\"RepBills.asp?MemberID=3309\">Bills</a></td>\n",
      "<td align=\"center\" bgcolor=\"white\" class=\"detail\" width=\"15%\"><a href=\"RepCommittees.asp?MemberID=3309\">Committees</a></td>\n",
      "<td align=\"center\" bgcolor=\"white\" class=\"notranslate detail\" width=\"15%\">103</td>\n",
      "<td align=\"center\" bgcolor=\"white\" class=\"notranslate detail\" width=\"15%\">D</td>\n",
      "\n",
      "<td bgcolor=\"white\" class=\"detail\" width=\"40%\"><a class=\"notranslate\" href=\"/house/Rep.asp?GA=104&amp;MemberID=3309\">Carol Ammons</a></td>\n",
      "<td align=\"center\" bgcolor=\"white\" class=\"detail\" width=\"15%\"><a href=\"RepBills.asp?MemberID=3309\">Bills</a></td>\n",
      "<td align=\"center\" bgcolor=\"white\" class=\"detail\" width=\"15%\"><a href=\"RepCommittees.asp?MemberID=3309\">Committees</a></td>\n",
      "<td align=\"center\" bgcolor=\"white\" class=\"notranslate detail\" width=\"15%\">103</td>\n",
      "<td align=\"center\" bgcolor=\"white\" class=\"notranslate detail\" width=\"15%\">D</td>\n",
      "\n",
      "<td bgcolor=\"white\" class=\"detail\" width=\"40%\"><a class=\"notranslate\" href=\"/house/Rep.asp?GA=104&amp;MemberID=3309\">Carol Ammons</a></td>\n",
      "<td align=\"center\" bgcolor=\"white\" class=\"detail\" width=\"15%\"><a href=\"RepBills.asp?MemberID=3309\">Bills</a></td>\n",
      "<td align=\"center\" bgcolor=\"white\" class=\"detail\" width=\"15%\"><a href=\"RepCommittees.asp?MemberID=3309\">Committees</a></td>\n",
      "<td align=\"center\" bgcolor=\"white\" class=\"notranslate detail\" width=\"15%\">103</td>\n",
      "<td align=\"center\" bgcolor=\"white\" class=\"notranslate detail\" width=\"15%\">D</td>\n",
      "\n"
     ]
    }
   ],
   "source": [
    "for cell in example_row.select('td'):\n",
    "    print(cell)\n",
    "print()\n",
    "\n",
    "for cell in example_row.select('.detail'):\n",
    "    print(cell)\n",
    "print()\n",
    "\n",
    "for cell in example_row.select('td.detail'):\n",
    "    print(cell)\n",
    "print()"
   ]
  },
  {
   "cell_type": "markdown",
   "metadata": {},
   "source": [
    "Podemos confirmar que todas son iguales."
   ]
  },
  {
   "cell_type": "code",
   "execution_count": 37,
   "metadata": {
    "tags": []
   },
   "outputs": [],
   "source": [
    "assert example_row.select('td') == example_row.select('.detail') == example_row.select('td.detail')"
   ]
  },
  {
   "cell_type": "markdown",
   "metadata": {},
   "source": [
    "Utilicemos el selector `td.detail` para ser lo más específicos posibles."
   ]
  },
  {
   "cell_type": "code",
   "execution_count": 38,
   "metadata": {},
   "outputs": [
    {
     "data": {
      "text/plain": [
       "[<td bgcolor=\"white\" class=\"detail\" width=\"40%\"><a class=\"notranslate\" href=\"/house/Rep.asp?GA=104&amp;MemberID=3309\">Carol Ammons</a></td>,\n",
       " <td align=\"center\" bgcolor=\"white\" class=\"detail\" width=\"15%\"><a href=\"RepBills.asp?MemberID=3309\">Bills</a></td>,\n",
       " <td align=\"center\" bgcolor=\"white\" class=\"detail\" width=\"15%\"><a href=\"RepCommittees.asp?MemberID=3309\">Committees</a></td>,\n",
       " <td align=\"center\" bgcolor=\"white\" class=\"notranslate detail\" width=\"15%\">103</td>,\n",
       " <td align=\"center\" bgcolor=\"white\" class=\"notranslate detail\" width=\"15%\">D</td>]"
      ]
     },
     "execution_count": 38,
     "metadata": {},
     "output_type": "execute_result"
    }
   ],
   "source": [
    "# Select only those 'td' tags with class 'detail' \n",
    "detail_cells = example_row.select('td.detail')\n",
    "detail_cells"
   ]
  },
  {
   "cell_type": "markdown",
   "metadata": {},
   "source": [
    "La mayoría de las veces, nos interesa el **texto** real de un sitio web, no sus etiquetas. Recordemos que para obtener el texto de un elemento HTML, usamos el `text` member:"
   ]
  },
  {
   "cell_type": "code",
   "execution_count": 39,
   "metadata": {},
   "outputs": [
    {
     "name": "stdout",
     "output_type": "stream",
     "text": [
      "['Carol Ammons', 'Bills', 'Committees', '103', 'D']\n"
     ]
    }
   ],
   "source": [
    "# Keep only the text in each of those cells\n",
    "row_data = [cell.text for cell in detail_cells]\n",
    "\n",
    "print(row_data)"
   ]
  },
  {
   "cell_type": "markdown",
   "metadata": {},
   "source": [
    "¡Se ve bien! Ahora solo necesitamos usar nuestros conocimientos básicos de Python para obtener los elementos de esta lista que necesitamos. Recuerda: queremos el nombre del senador, su distrito y su partido."
   ]
  },
  {
   "cell_type": "code",
   "execution_count": 41,
   "metadata": {},
   "outputs": [
    {
     "name": "stdout",
     "output_type": "stream",
     "text": [
      "Carol Ammons\n",
      "Bills\n",
      "Committees\n",
      "103\n",
      "D\n"
     ]
    }
   ],
   "source": [
    "print(row_data[0]) # Name\n",
    "print(row_data[1]) # Bills\n",
    "print(row_data[2]) # Committees\n",
    "print(row_data[3]) # District\n",
    "print(row_data[4]) # Party"
   ]
  },
  {
   "cell_type": "markdown",
   "metadata": {},
   "source": [
    "## Eliminando las filas basura\n",
    "\n",
    "Vimos al principio que no todas las filas que obtuvimos corresponden a un senador. Tendremos que hacer limpieza antes de continuar. Veamos algunos ejemplos:"
   ]
  },
  {
   "cell_type": "code",
   "execution_count": 42,
   "metadata": {},
   "outputs": [
    {
     "name": "stdout",
     "output_type": "stream",
     "text": [
      "Row 0:\n",
      " <tr><td colspan=\"5\">\n",
      "<span class=\"heading\">Current House Members</span>\n",
      "<span class=\"italics\">  104th General Assembly</span><br/>\n",
      "<!--Removed link for Current only temporarily at rollover- please leave Previous check in so at next rollover it still shows for previous ga-->\n",
      "<span class=\"content\"> <a href=\"104th_House_Officers.pdf\">Officers of the General Assembly</a></span><br/><span class=\"content\"><b>Democrats:</b> 78   <b>Republicans:</b> 40</span><br/>\n",
      "</td></tr> \n",
      "\n",
      "Row 1:\n",
      " <tr>\n",
      "<td class=\"header\" width=\"45%\"><a class=\"filetab\" href=\"javascript:Sort('LastName','',104);\" title=\"Sort by Representative\">Representative</a></td>\n",
      "<td align=\"center\" class=\"header\" width=\"15%\">Bills</td>\n",
      "<td align=\"center\" class=\"header\" width=\"10%\">Committees</td>\n",
      "<td align=\"center\" class=\"header\" width=\"15%\"><a class=\"filetab\" href=\"javascript:Sort('DistrictNumber','',104);\" title=\"Sort by District\">District</a></td>\n",
      "<td align=\"center\" class=\"header\" width=\"15%\"><a class=\"filetab\" href=\"javascript:Sort('Party','',104);\" title=\"Sort by Party\">Party</a></td>\n",
      "</tr> \n",
      "\n",
      "Last Row:\n",
      " <tr>\n",
      "<td align=\"left\" class=\"footer\" width=\"107\">  <img alt=\"Legislative Information System logo\" height=\"45\" src=\"/images/lislogo.jpg\" width=\"100\"/></td>\n",
      "<td align=\"\" class=\"footer\" valign=\"top\" width=\"100%\">This site is maintained for the Illinois General Assembly \n",
      "by the<br/>Legislative Information System, 705 Stratton Building, Springfield, Illinois 62706<br/>\n",
      "<a class=\"links\" href=\"mailto:webmaster@ilga.gov?subject=Email from ILGA Web\" style=\"font-size:8px\">\n",
      "      Contact ILGA Webmaster</a>\n",
      "</td>\n",
      "</tr>\n"
     ]
    }
   ],
   "source": [
    "print('Row 0:\\n', rows[0], '\\n')\n",
    "print('Row 1:\\n', rows[1], '\\n')\n",
    "print('Last Row:\\n', rows[-1])"
   ]
  },
  {
   "cell_type": "markdown",
   "metadata": {},
   "source": [
    "Al escribir nuestro bucle for, queremos que solo se aplique a las filas relevantes. Por lo tanto, debemos filtrar las filas irrelevantes. Para ello, comparamos algunas de estas con las filas que necesitamos, observamos sus diferencias y luego formulamos esto en una condición.\n",
    "\n",
    "Como puedes imaginar, hay muchas maneras de hacerlo, y dependerá del sitio web. Aquí te mostraremos algunas para que te hagas una idea de cómo hacerlo."
   ]
  },
  {
   "cell_type": "code",
   "execution_count": 43,
   "metadata": {},
   "outputs": [
    {
     "name": "stdout",
     "output_type": "stream",
     "text": [
      "1\n",
      "11\n",
      "5\n",
      "5\n"
     ]
    }
   ],
   "source": [
    "# Bad rows\n",
    "print(len(rows[0]))\n",
    "print(len(rows[1]))\n",
    "\n",
    "# Good rows\n",
    "print(len(rows[2]))\n",
    "print(len(rows[3]))"
   ]
  },
  {
   "cell_type": "markdown",
   "metadata": {},
   "source": [
    "Quizás las filas buenas tengan una longitud de 5. Comprobémoslo:"
   ]
  },
  {
   "cell_type": "code",
   "execution_count": 44,
   "metadata": {},
   "outputs": [
    {
     "name": "stdout",
     "output_type": "stream",
     "text": [
      "<tr><td bgcolor=\"white\" class=\"detail\" width=\"40%\"><a class=\"notranslate\" href=\"/house/Rep.asp?GA=104&amp;MemberID=3309\">Carol Ammons</a></td><td align=\"center\" bgcolor=\"white\" class=\"detail\" width=\"15%\"><a href=\"RepBills.asp?MemberID=3309\">Bills</a></td><td align=\"center\" bgcolor=\"white\" class=\"detail\" width=\"15%\"><a href=\"RepCommittees.asp?MemberID=3309\">Committees</a></td><td align=\"center\" bgcolor=\"white\" class=\"notranslate detail\" width=\"15%\">103</td><td align=\"center\" bgcolor=\"white\" class=\"notranslate detail\" width=\"15%\">D</td></tr> \n",
      "\n",
      "<tr><td bgcolor=\"EBEBEB\" class=\"detail\" width=\"40%\"><a class=\"notranslate\" href=\"/house/Rep.asp?GA=104&amp;MemberID=3387\">Janet Yang Rohr</a></td><td align=\"center\" bgcolor=\"EBEBEB\" class=\"detail\" width=\"15%\"><a href=\"RepBills.asp?MemberID=3387\">Bills</a></td><td align=\"center\" bgcolor=\"EBEBEB\" class=\"detail\" width=\"15%\"><a href=\"RepCommittees.asp?MemberID=3387\">Committees</a></td><td align=\"center\" bgcolor=\"EBEBEB\" class=\"notranslate detail\" width=\"15%\">41</td><td align=\"center\" bgcolor=\"EBEBEB\" class=\"notranslate detail\" width=\"15%\">D</td></tr> \n",
      "\n",
      "<tr>\n",
      "<td align=\"left\" class=\"footer\" width=\"107\">  <img alt=\"Legislative Information System logo\" height=\"45\" src=\"/images/lislogo.jpg\" width=\"100\"/></td>\n",
      "<td align=\"\" class=\"footer\" valign=\"top\" width=\"100%\">This site is maintained for the Illinois General Assembly \n",
      "by the<br/>Legislative Information System, 705 Stratton Building, Springfield, Illinois 62706<br/>\n",
      "<a class=\"links\" href=\"mailto:webmaster@ilga.gov?subject=Email from ILGA Web\" style=\"font-size:8px\">\n",
      "      Contact ILGA Webmaster</a>\n",
      "</td>\n",
      "</tr>\n"
     ]
    }
   ],
   "source": [
    "good_rows = [row for row in rows if len(row) == 5]\n",
    "\n",
    "# Let's check some rows\n",
    "print(good_rows[0], '\\n')\n",
    "print(good_rows[-2], '\\n')\n",
    "print(good_rows[-1])"
   ]
  },
  {
   "cell_type": "markdown",
   "metadata": {},
   "source": [
    "Encontramos una fila de pie de página en nuestra lista que queremos evitar. Probemos algo diferente:"
   ]
  },
  {
   "cell_type": "code",
   "execution_count": 45,
   "metadata": {},
   "outputs": [
    {
     "data": {
      "text/plain": [
       "[<td bgcolor=\"white\" class=\"detail\" width=\"40%\"><a class=\"notranslate\" href=\"/house/Rep.asp?GA=104&amp;MemberID=3309\">Carol Ammons</a></td>,\n",
       " <td align=\"center\" bgcolor=\"white\" class=\"detail\" width=\"15%\"><a href=\"RepBills.asp?MemberID=3309\">Bills</a></td>,\n",
       " <td align=\"center\" bgcolor=\"white\" class=\"detail\" width=\"15%\"><a href=\"RepCommittees.asp?MemberID=3309\">Committees</a></td>,\n",
       " <td align=\"center\" bgcolor=\"white\" class=\"notranslate detail\" width=\"15%\">103</td>,\n",
       " <td align=\"center\" bgcolor=\"white\" class=\"notranslate detail\" width=\"15%\">D</td>]"
      ]
     },
     "execution_count": 45,
     "metadata": {},
     "output_type": "execute_result"
    }
   ],
   "source": [
    "rows[2].select('td.detail') "
   ]
  },
  {
   "cell_type": "code",
   "execution_count": 46,
   "metadata": {},
   "outputs": [
    {
     "name": "stdout",
     "output_type": "stream",
     "text": [
      "[] \n",
      "\n",
      "[<td bgcolor=\"EBEBEB\" class=\"detail\" width=\"40%\"><a class=\"notranslate\" href=\"/house/Rep.asp?GA=104&amp;MemberID=3432\">Harry Benton</a></td>, <td align=\"center\" bgcolor=\"EBEBEB\" class=\"detail\" width=\"15%\"><a href=\"RepBills.asp?MemberID=3432\">Bills</a></td>, <td align=\"center\" bgcolor=\"EBEBEB\" class=\"detail\" width=\"15%\"><a href=\"RepCommittees.asp?MemberID=3432\">Committees</a></td>, <td align=\"center\" bgcolor=\"EBEBEB\" class=\"notranslate detail\" width=\"15%\">97</td>, <td align=\"center\" bgcolor=\"EBEBEB\" class=\"notranslate detail\" width=\"15%\">D</td>] \n",
      "\n",
      "Checking rows...\n",
      "\n",
      "<tr><td bgcolor=\"white\" class=\"detail\" width=\"40%\"><a class=\"notranslate\" href=\"/house/Rep.asp?GA=104&amp;MemberID=3309\">Carol Ammons</a></td><td align=\"center\" bgcolor=\"white\" class=\"detail\" width=\"15%\"><a href=\"RepBills.asp?MemberID=3309\">Bills</a></td><td align=\"center\" bgcolor=\"white\" class=\"detail\" width=\"15%\"><a href=\"RepCommittees.asp?MemberID=3309\">Committees</a></td><td align=\"center\" bgcolor=\"white\" class=\"notranslate detail\" width=\"15%\">103</td><td align=\"center\" bgcolor=\"white\" class=\"notranslate detail\" width=\"15%\">D</td></tr> \n",
      "\n",
      "<tr><td bgcolor=\"EBEBEB\" class=\"detail\" width=\"40%\"><a class=\"notranslate\" href=\"/house/Rep.asp?GA=104&amp;MemberID=3387\">Janet Yang Rohr</a></td><td align=\"center\" bgcolor=\"EBEBEB\" class=\"detail\" width=\"15%\"><a href=\"RepBills.asp?MemberID=3387\">Bills</a></td><td align=\"center\" bgcolor=\"EBEBEB\" class=\"detail\" width=\"15%\"><a href=\"RepCommittees.asp?MemberID=3387\">Committees</a></td><td align=\"center\" bgcolor=\"EBEBEB\" class=\"notranslate detail\" width=\"15%\">41</td><td align=\"center\" bgcolor=\"EBEBEB\" class=\"notranslate detail\" width=\"15%\">D</td></tr>\n"
     ]
    }
   ],
   "source": [
    "# Bad row\n",
    "print(rows[-1].select('td.detail'), '\\n')\n",
    "\n",
    "# Good row\n",
    "print(rows[5].select('td.detail'), '\\n')\n",
    "\n",
    "# How about this?\n",
    "good_rows = [row for row in rows if row.select('td.detail')]\n",
    "\n",
    "print(\"Checking rows...\\n\")\n",
    "print(good_rows[0], '\\n')\n",
    "print(good_rows[-1])"
   ]
  },
  {
   "cell_type": "markdown",
   "metadata": {},
   "source": [
    "¡Parece que encontramos algo que funcionó!"
   ]
  },
  {
   "cell_type": "markdown",
   "metadata": {},
   "source": [
    "## Enlazar todo\n",
    "\n",
    "Ahora que hemos visto cómo obtener los datos que queremos de una fila, así como filtrar las filas que no queremos, vamos a juntarlo todo en un bucle."
   ]
  },
  {
   "cell_type": "code",
   "execution_count": 47,
   "metadata": {
    "tags": []
   },
   "outputs": [],
   "source": [
    "# Define storage list\n",
    "members = []\n",
    "\n",
    "# Get rid of junk rows\n",
    "valid_rows = [row for row in rows if row.select('td.detail')]\n",
    "\n",
    "# Loop through all rows\n",
    "for row in valid_rows:\n",
    "    # Select only those 'td' tags with class 'detail'\n",
    "    detail_cells = row.select('td.detail')\n",
    "    # Keep only the text in each of those cells\n",
    "    row_data = [cell.text for cell in detail_cells]\n",
    "    # Collect information\n",
    "    name = row_data[0]\n",
    "    district = int(row_data[3])\n",
    "    party = row_data[4]\n",
    "    # Store in a tuple\n",
    "    senator = (name, district, party)\n",
    "    # Append to list\n",
    "    members.append(senator)"
   ]
  },
  {
   "cell_type": "code",
   "execution_count": 65,
   "metadata": {},
   "outputs": [
    {
     "name": "stdout",
     "output_type": "stream",
     "text": [
      "[('Carol Ammons', 103, 'D', 'http://www.ilga.gov/house/RepBills.asp?MemberID=3309&Primary=True'), ('Jaime M. Andrade, Jr.', 40, 'D', 'http://www.ilga.gov/house/RepBills.asp?MemberID=3307&Primary=True'), ('Dagmara Avelar', 85, 'D', 'http://www.ilga.gov/house/RepBills.asp?MemberID=3391&Primary=True'), ('Harry Benton', 97, 'D', 'http://www.ilga.gov/house/RepBills.asp?MemberID=3432&Primary=True'), ('Diane Blair-Sherlock', 46, 'D', 'http://www.ilga.gov/house/RepBills.asp?MemberID=3425&Primary=True'), ('Amy Briel', 76, 'D', 'http://www.ilga.gov/house/RepBills.asp?MemberID=3451&Primary=True'), ('Kam Buckner', 26, 'D', 'http://www.ilga.gov/house/RepBills.asp?MemberID=3366&Primary=True'), ('Jason R. Bunting', 106, 'R', 'http://www.ilga.gov/house/RepBills.asp?MemberID=3439&Primary=True'), ('John M. Cabello', 90, 'R', 'http://www.ilga.gov/house/RepBills.asp?MemberID=3430&Primary=True'), ('Mary Beth Canty', 54, 'D', 'http://www.ilga.gov/house/RepBills.asp?MemberID=3424&Primary=True'), ('Kelly M. Cassidy', 14, 'D', 'http://www.ilga.gov/house/RepBills.asp?MemberID=3288&Primary=True'), ('Sharon Chung', 91, 'D', 'http://www.ilga.gov/house/RepBills.asp?MemberID=3431&Primary=True'), ('Michael J. Coffey, Jr.', 95, 'R', 'http://www.ilga.gov/house/RepBills.asp?MemberID=3437&Primary=True'), ('Terra Costa Howard', 42, 'D', 'http://www.ilga.gov/house/RepBills.asp?MemberID=3348&Primary=True'), ('Michael Crawford', 31, 'D', 'http://www.ilga.gov/house/RepBills.asp?MemberID=3452&Primary=True'), ('Fred Crespo', 44, 'D', 'http://www.ilga.gov/house/RepBills.asp?MemberID=3274&Primary=True'), ('Margaret Croke', 12, 'D', 'http://www.ilga.gov/house/RepBills.asp?MemberID=3384&Primary=True'), ('Christopher \"C.D.\" Davidsmeyer', 100, 'R', 'http://www.ilga.gov/house/RepBills.asp?MemberID=3304&Primary=True'), ('Jed Davis', 75, 'R', 'http://www.ilga.gov/house/RepBills.asp?MemberID=3414&Primary=True'), ('Lisa Davis', 32, 'D', 'http://www.ilga.gov/house/RepBills.asp?MemberID=3458&Primary=True'), ('William \"Will\" Davis', 30, 'D', 'http://www.ilga.gov/house/RepBills.asp?MemberID=3266&Primary=True'), ('Regan Deering', 88, 'R', 'http://www.ilga.gov/house/RepBills.asp?MemberID=3454&Primary=True'), ('Eva-Dina Delgado', 3, 'D', 'http://www.ilga.gov/house/RepBills.asp?MemberID=3373&Primary=True'), ('Anthony DeLuca', 80, 'D', 'http://www.ilga.gov/house/RepBills.asp?MemberID=3277&Primary=True'), ('Martha Deuter', 45, 'D', 'http://www.ilga.gov/house/RepBills.asp?MemberID=3455&Primary=True'), ('Daniel Didech', 59, 'D', 'http://www.ilga.gov/house/RepBills.asp?MemberID=3347&Primary=True'), ('Kimberly Du Buclet', 5, 'D', 'http://www.ilga.gov/house/RepBills.asp?MemberID=3441&Primary=True'), ('Amy Elik', 111, 'R', 'http://www.ilga.gov/house/RepBills.asp?MemberID=3393&Primary=True'), ('Marcus C. Evans, Jr.', 33, 'D', 'http://www.ilga.gov/house/RepBills.asp?MemberID=3289&Primary=True'), ('Laura Faver Dias', 62, 'D', 'http://www.ilga.gov/house/RepBills.asp?MemberID=3426&Primary=True'), ('La Shawn K. Ford', 8, 'D', 'http://www.ilga.gov/house/RepBills.asp?MemberID=3272&Primary=True'), ('David Friess', 115, 'R', 'http://www.ilga.gov/house/RepBills.asp?MemberID=3395&Primary=True'), ('Bradley Fritts', 74, 'R', 'http://www.ilga.gov/house/RepBills.asp?MemberID=3428&Primary=True'), ('Robyn Gabel', 18, 'D', 'http://www.ilga.gov/house/RepBills.asp?MemberID=3278&Primary=True'), ('Mary Gill', 35, 'D', 'http://www.ilga.gov/house/RepBills.asp?MemberID=3440&Primary=True'), ('Jennifer Gong-Gershowitz', 17, 'D', 'http://www.ilga.gov/house/RepBills.asp?MemberID=3352&Primary=True'), ('Edgar González, Jr.', 23, 'D', 'http://www.ilga.gov/house/RepBills.asp?MemberID=3374&Primary=True'), ('Jehan Gordon-Booth', 92, 'D', 'http://www.ilga.gov/house/RepBills.asp?MemberID=3275&Primary=True'), ('Amy L. Grant', 47, 'R', 'http://www.ilga.gov/house/RepBills.asp?MemberID=3360&Primary=True'), ('Nicolle Grasse', 53, 'D', 'http://www.ilga.gov/house/RepBills.asp?MemberID=3450&Primary=True'), ('Angelica Guerrero-Cuellar', 22, 'D', 'http://www.ilga.gov/house/RepBills.asp?MemberID=3400&Primary=True'), ('Will Guzzardi', 39, 'D', 'http://www.ilga.gov/house/RepBills.asp?MemberID=3311&Primary=True'), ('Jackie Haas', 79, 'R', 'http://www.ilga.gov/house/RepBills.asp?MemberID=3379&Primary=True'), ('Brad Halbrook', 107, 'R', 'http://www.ilga.gov/house/RepBills.asp?MemberID=3328&Primary=True'), ('Norine K. Hammond', 94, 'R', 'http://www.ilga.gov/house/RepBills.asp?MemberID=3287&Primary=True'), ('Matt Hanson', 83, 'D', 'http://www.ilga.gov/house/RepBills.asp?MemberID=3416&Primary=True'), ('Sonya M. Harper', 6, 'D', 'http://www.ilga.gov/house/RepBills.asp?MemberID=3314&Primary=True'), ('William E Hauter', 87, 'R', 'http://www.ilga.gov/house/RepBills.asp?MemberID=3429&Primary=True'), ('Barbara Hernandez', 50, 'D', 'http://www.ilga.gov/house/RepBills.asp?MemberID=3367&Primary=True'), ('Elizabeth \"Lisa\" Hernandez', 2, 'D', 'http://www.ilga.gov/house/RepBills.asp?MemberID=3273&Primary=True'), ('Norma Hernandez', 77, 'D', 'http://www.ilga.gov/house/RepBills.asp?MemberID=3415&Primary=True'), ('Maura Hirschauer', 49, 'D', 'http://www.ilga.gov/house/RepBills.asp?MemberID=3388&Primary=True'), ('Jay Hoffman', 113, 'D', 'http://www.ilga.gov/house/RepBills.asp?MemberID=3306&Primary=True'), ('Hoan Huynh', 13, 'D', 'http://www.ilga.gov/house/RepBills.asp?MemberID=3418&Primary=True'), ('Paul Jacobs', 118, 'R', 'http://www.ilga.gov/house/RepBills.asp?MemberID=3394&Primary=True'), ('Lilian Jiménez', 4, 'D', 'http://www.ilga.gov/house/RepBills.asp?MemberID=3417&Primary=True'), ('Gregg Johnson', 72, 'D', 'http://www.ilga.gov/house/RepBills.asp?MemberID=3427&Primary=True'), ('Thaddeus Jones', 29, 'D', 'http://www.ilga.gov/house/RepBills.asp?MemberID=3283&Primary=True'), ('Tracy Katz Muhl', 57, 'D', 'http://www.ilga.gov/house/RepBills.asp?MemberID=3447&Primary=True'), ('Jeff Keicher', 70, 'R', 'http://www.ilga.gov/house/RepBills.asp?MemberID=3333&Primary=True'), ('Michael J. Kelly', 15, 'D', 'http://www.ilga.gov/house/RepBills.asp?MemberID=3402&Primary=True'), ('Stephanie A. Kifowit', 84, 'D', 'http://www.ilga.gov/house/RepBills.asp?MemberID=3301&Primary=True'), ('Nicole La Ha', 82, 'R', 'http://www.ilga.gov/house/RepBills.asp?MemberID=3445&Primary=True'), ('Lindsey LaPointe', 19, 'D', 'http://www.ilga.gov/house/RepBills.asp?MemberID=3371&Primary=True'), ('Camille Y. Lilly', 78, 'D', 'http://www.ilga.gov/house/RepBills.asp?MemberID=3279&Primary=True'), ('Theresa Mah', 24, 'D', 'http://www.ilga.gov/house/RepBills.asp?MemberID=3321&Primary=True'), ('Natalie A. Manley', 98, 'D', 'http://www.ilga.gov/house/RepBills.asp?MemberID=3302&Primary=True'), ('Joyce Mason', 61, 'D', 'http://www.ilga.gov/house/RepBills.asp?MemberID=3357&Primary=True'), ('Rita Mayfield', 60, 'D', 'http://www.ilga.gov/house/RepBills.asp?MemberID=3280&Primary=True'), ('Tony M. McCombie', 89, 'R', 'http://www.ilga.gov/house/RepBills.asp?MemberID=3322&Primary=True'), ('Martin McLaughlin', 52, 'R', 'http://www.ilga.gov/house/RepBills.asp?MemberID=3389&Primary=True'), ('Charles Meier', 109, 'R', 'http://www.ilga.gov/house/RepBills.asp?MemberID=3305&Primary=True'), ('Debbie Meyers-Martin', 38, 'D', 'http://www.ilga.gov/house/RepBills.asp?MemberID=3350&Primary=True'), ('Chris Miller', 101, 'R', 'http://www.ilga.gov/house/RepBills.asp?MemberID=3362&Primary=True'), ('Anna Moeller', 43, 'D', 'http://www.ilga.gov/house/RepBills.asp?MemberID=3308&Primary=True'), ('Kyle Moore', 99, 'R', 'http://www.ilga.gov/house/RepBills.asp?MemberID=3456&Primary=True'), ('Bob Morgan', 58, 'D', 'http://www.ilga.gov/house/RepBills.asp?MemberID=3353&Primary=True'), ('Yolonda Morris', 9, 'D', 'http://www.ilga.gov/house/RepBills.asp?MemberID=3444&Primary=True'), ('Martin J. Moylan', 55, 'D', 'http://www.ilga.gov/house/RepBills.asp?MemberID=3300&Primary=True'), ('Michelle Mussman', 56, 'D', 'http://www.ilga.gov/house/RepBills.asp?MemberID=3284&Primary=True'), ('Suzanne M. Ness', 66, 'D', 'http://www.ilga.gov/house/RepBills.asp?MemberID=3396&Primary=True'), ('Adam M. Niemerg', 102, 'R', 'http://www.ilga.gov/house/RepBills.asp?MemberID=3392&Primary=True'), ('Kevin John Olickal', 16, 'D', 'http://www.ilga.gov/house/RepBills.asp?MemberID=3419&Primary=True'), ('Aarón M. Ortíz', 1, 'D', 'http://www.ilga.gov/house/RepBills.asp?MemberID=3358&Primary=True'), ('Abdelnasser Rashid', 21, 'D', 'http://www.ilga.gov/house/RepBills.asp?MemberID=3420&Primary=True'), ('Steven Reick', 63, 'R', 'http://www.ilga.gov/house/RepBills.asp?MemberID=3323&Primary=True'), ('Robert \"Bob\" Rita', 28, 'D', 'http://www.ilga.gov/house/RepBills.asp?MemberID=3267&Primary=True'), ('Wayne A. Rosenthal', 108, 'R', 'http://www.ilga.gov/house/RepBills.asp?MemberID=3434&Primary=True'), ('Rick Ryan', 36, 'D', 'http://www.ilga.gov/house/RepBills.asp?MemberID=3457&Primary=True'), ('Jennifer Sanalitro', 48, 'R', 'http://www.ilga.gov/house/RepBills.asp?MemberID=3422&Primary=True'), ('Sue Scherer', 96, 'D', 'http://www.ilga.gov/house/RepBills.asp?MemberID=3303&Primary=True'), ('Kevin Schmidt', 114, 'R', 'http://www.ilga.gov/house/RepBills.asp?MemberID=3436&Primary=True'), ('Brandun Schweizer', 104, 'R', 'http://www.ilga.gov/house/RepBills.asp?MemberID=3446&Primary=True'), ('Dave Severin', 116, 'R', 'http://www.ilga.gov/house/RepBills.asp?MemberID=3324&Primary=True'), ('Patrick Sheehan', 37, 'R', 'http://www.ilga.gov/house/RepBills.asp?MemberID=3448&Primary=True'), ('Justin Slaughter', 27, 'D', 'http://www.ilga.gov/house/RepBills.asp?MemberID=3320&Primary=True'), ('Nicholas K. Smith', 34, 'D', 'http://www.ilga.gov/house/RepBills.asp?MemberID=3332&Primary=True'), ('Joe C. Sosnowski', 69, 'R', 'http://www.ilga.gov/house/RepBills.asp?MemberID=3285&Primary=True'), ('Ryan Spain', 73, 'R', 'http://www.ilga.gov/house/RepBills.asp?MemberID=3325&Primary=True'), ('Anne Stava-Murray', 81, 'D', 'http://www.ilga.gov/house/RepBills.asp?MemberID=3349&Primary=True'), ('Brad Stephens', 20, 'R', 'http://www.ilga.gov/house/RepBills.asp?MemberID=3370&Primary=True'), ('Katie Stuart', 112, 'D', 'http://www.ilga.gov/house/RepBills.asp?MemberID=3326&Primary=True'), ('Dan Swanson', 71, 'R', 'http://www.ilga.gov/house/RepBills.asp?MemberID=3327&Primary=True'), ('Nabeela Syed', 51, 'D', 'http://www.ilga.gov/house/RepBills.asp?MemberID=3423&Primary=True'), ('Curtis J. Tarver, II', 25, 'D', 'http://www.ilga.gov/house/RepBills.asp?MemberID=3355&Primary=True'), ('Dennis Tipsword', 105, 'R', 'http://www.ilga.gov/house/RepBills.asp?MemberID=3433&Primary=True'), ('Dan Ugaste', 65, 'R', 'http://www.ilga.gov/house/RepBills.asp?MemberID=3359&Primary=True'), ('Dave Vella', 68, 'D', 'http://www.ilga.gov/house/RepBills.asp?MemberID=3390&Primary=True'), ('Lawrence \"Larry\" Walsh, Jr.', 86, 'D', 'http://www.ilga.gov/house/RepBills.asp?MemberID=3290&Primary=True'), ('Travis Weaver', 93, 'R', 'http://www.ilga.gov/house/RepBills.asp?MemberID=3435&Primary=True'), ('Tom Weber', 64, 'R', 'http://www.ilga.gov/house/RepBills.asp?MemberID=3361&Primary=True'), ('Emanuel \"Chris\" Welch', 7, 'D', 'http://www.ilga.gov/house/RepBills.asp?MemberID=3298&Primary=True'), ('Maurice A. West, II', 67, 'D', 'http://www.ilga.gov/house/RepBills.asp?MemberID=3346&Primary=True'), ('Blaine Wilhour', 110, 'R', 'http://www.ilga.gov/house/RepBills.asp?MemberID=3365&Primary=True'), ('Ann M. Williams', 11, 'D', 'http://www.ilga.gov/house/RepBills.asp?MemberID=3286&Primary=True'), ('Jawaharial Williams', 10, 'D', 'http://www.ilga.gov/house/RepBills.asp?MemberID=3368&Primary=True'), ('Patrick Windhorst', 117, 'R', 'http://www.ilga.gov/house/RepBills.asp?MemberID=3364&Primary=True'), ('Janet Yang Rohr', 41, 'D', 'http://www.ilga.gov/house/RepBills.asp?MemberID=3387&Primary=True')]\n"
     ]
    }
   ],
   "source": [
    "print(members)"
   ]
  },
  {
   "cell_type": "markdown",
   "metadata": {},
   "source": [
    "# CREAMOS LA BASE DE DATOS PARA INGRESAR LA DATA "
   ]
  },
  {
   "cell_type": "code",
   "execution_count": 66,
   "metadata": {},
   "outputs": [],
   "source": [
    "import psycopg2\n",
    "import json\n",
    "from datetime import datetime\n",
    "\n",
    "# Paso 1: Crear la base de datos y la tabla desde Python\n",
    "def create_database_and_table():\n",
    "    try:\n",
    "        # Conexión al servidor PostgreSQL (sin especificar una base de datos)\n",
    "        conn = psycopg2.connect(\n",
    "            user=\"postgres\", # Usuario predeterminado\n",
    "            password=\"postgres\",\n",
    "            host=\"localhost\",\n",
    "            port=\"5432\"\n",
    "        )\n",
    "        conn.autocommit = True # Necesario para crear una base de datos\n",
    "        cursor = conn.cursor()\n",
    "\n",
    "        # Crear la base de datos \"SENADORES_HOUSE_logs\" si no existe\n",
    "        cursor.execute(\"SELECT datname FROM pg_database WHERE datname='senadores_house_logs';\")\n",
    "        if not cursor.fetchone():\n",
    "            cursor.execute(\"CREATE DATABASE senadores_house_logs;\")\n",
    "            print(\"Base de datos 'senadores_house_logs' creada correctamente.\")\n",
    "        else:\n",
    "            print(\"La base de datos 'senadores_house_logs' ya existe.\")\n",
    "\n",
    "        # Cerrar la conexión inicial\n",
    "        cursor.close()\n",
    "        conn.close()\n",
    "\n",
    "        # Conectar a la nueva base de datos\n",
    "        conn = psycopg2.connect(\n",
    "        database=\"senadores_house_logs\",\n",
    "        user=\"postgres\",\n",
    "        password=\"postgres\",\n",
    "        host=\"localhost\",\n",
    "        port=\"5432\"\n",
    "        )\n",
    "        cursor = conn.cursor()\n",
    "\n",
    "        # Crear la tabla \"structured_logs\" si no existe\n",
    "        cursor.execute(\"\"\"\n",
    "        CREATE TABLE IF NOT EXISTS structured_logs (\n",
    "        id SERIAL PRIMARY KEY,\n",
    "        timestamp TIMESTAMP NOT NULL,\n",
    "        name_type VARCHAR(15),\n",
    "        distrit_type VARCHAR(15),\n",
    "        party_type VARCHAR(2),        \n",
    "        );\n",
    "        \"\"\")\n",
    "        print(\"Tabla 'structured_logs' creada correctamente.\")\n",
    "\n",
    "        # Confirmar cambios y cerrar la conexión\n",
    "        conn.commit()\n",
    "        cursor.close()\n",
    "        conn.close()\n",
    "\n",
    "    except Exception as e:\n",
    "        print(f\"Error al crear la base de datos o la tabla: {e}\")\n",
    "\n"
   ]
  },
  {
   "cell_type": "code",
   "execution_count": null,
   "metadata": {},
   "outputs": [],
   "source": [
    "# Paso 2: Insertar datos estructurados en la tabla\n",
    "def insert_structured_logs():\n",
    "    try:\n",
    "        # Conectar a la base de datos\n",
    "        conn = psycopg2.connect(\n",
    "        database=\"cybersecurity_logs\",\n",
    "        user=\"postgres\",\n",
    "        password=\"postgres\",\n",
    "        host=\"localhost\",\n",
    "        port=\"5432\"\n",
    "        )\n",
    "        cursor = conn.cursor()\n",
    "\n",
    "        # Datos de ejemplo para insertar\n",
    "        logs = [\n",
    "        (datetime(2025, 2, 22, 10, 0, 0), \"192.168.1.10\", \"login_failed\", \"Intento de inicio de sesión fallido desde IP 192.168.1.10\"),\n",
    "        (datetime(2025, 2, 22, 10, 5, 0), \"192.168.1.15\", \"access_denied\", \"Acceso denegado a recurso crítico\")\n",
    "        ]\n",
    "\n",
    "        # Insertar registros en la tabla\n",
    "        cursor.executemany(\"\"\"\n",
    "        INSERT INTO structured_logs (timestamp, ip_address, event_type, description)\n",
    "        VALUES (%s, %s, %s, %s);\n",
    "        \"\"\", logs)\n",
    "\n",
    "        # Confirmar cambios y cerrar la conexión\n",
    "        conn.commit()\n",
    "        print(\"Datos estructurados insertados correctamente.\")\n",
    "        cursor.close()\n",
    "        conn.close()\n",
    "\n",
    "    except Exception as e:\n",
    "        print(f\"Error al insertar datos estructurados: {e}\")\n",
    "\n",
    "# Paso 3: Guardar logs no estructurados en un archivo JSON\n",
    "def save_unstructured_logs():\n",
    "    try:\n",
    "    # Simulación de logs no estructurados\n",
    "        unstructured_logs = [\n",
    "        \"[2025-02-22 10:10:00] Firewall Alert: Blocked incoming traffic from 10.0.0.1 to port 22.\",\n",
    "        \"[2025-02-22 10:15:00] IDS Alert: Suspicious activity detected from IP 192.168.1.20.\"\n",
    "        ]\n",
    "\n",
    "        # Guardar logs en un archivo JSON\n",
    "        with open(\"unstructured_logs.json\", \"w\") as file:\n",
    "            json.dump(unstructured_logs, file, indent=4)\n",
    "\n",
    "        print(\"Logs no estructurados guardados en 'unstructured_logs.json'\")\n",
    "\n",
    "    except Exception as e:\n",
    "        print(f\"Error al guardar logs no estructurados: {e}\")\n",
    "\n",
    "# Ejecutar todas las funciones\n",
    "if __name__ == \"__main__\":\n",
    "    create_database_and_table() # Crear base de datos y tabla\n",
    "    insert_structured_logs() # Insertar datos estructurados\n",
    "    save_unstructured_logs() # Guardar logs no estructurados"
   ]
  },
  {
   "cell_type": "markdown",
   "metadata": {},
   "source": [
    "## FIN BASE"
   ]
  },
  {
   "cell_type": "code",
   "execution_count": 48,
   "metadata": {},
   "outputs": [
    {
     "data": {
      "text/plain": [
       "118"
      ]
     },
     "execution_count": 48,
     "metadata": {},
     "output_type": "execute_result"
    }
   ],
   "source": [
    "# Should be 61\n",
    "len(members)"
   ]
  },
  {
   "cell_type": "markdown",
   "metadata": {},
   "source": [
    "Echemos un vistazo a lo que tenemos en  `members`."
   ]
  },
  {
   "cell_type": "code",
   "execution_count": 64,
   "metadata": {},
   "outputs": [
    {
     "name": "stdout",
     "output_type": "stream",
     "text": [
      "[('Carol Ammons', 103, 'D', 'http://www.ilga.gov/house/RepBills.asp?MemberID=3309&Primary=True'), ('Jaime M. Andrade, Jr.', 40, 'D', 'http://www.ilga.gov/house/RepBills.asp?MemberID=3307&Primary=True'), ('Dagmara Avelar', 85, 'D', 'http://www.ilga.gov/house/RepBills.asp?MemberID=3391&Primary=True'), ('Harry Benton', 97, 'D', 'http://www.ilga.gov/house/RepBills.asp?MemberID=3432&Primary=True'), ('Diane Blair-Sherlock', 46, 'D', 'http://www.ilga.gov/house/RepBills.asp?MemberID=3425&Primary=True')]\n"
     ]
    }
   ],
   "source": [
    "print(members[:5])"
   ]
  },
  {
   "cell_type": "markdown",
   "metadata": {},
   "source": [
    "## 🥊  Desafío: Obtener elementos `href` que apunten a los proyectos de ley de los miembros\n",
    "\n",
    "El código anterior recupera información sobre:\n",
    "- el nombre del senador\n",
    "- su número de distrito,\n",
    "- y su partido.\n",
    "\n",
    "Ahora queremos recuperar la URL de la lista de proyectos de ley de cada senador. Cada URL seguirá un formato específico. \n",
    "\n",
    "El formato de la lista de proyectos de ley para un senador determinado es:\n",
    "\n",
    "`http://www.ilga.gov/senate/SenatorBills.asp?GA=98&MemberID=[MEMBER_ID]&Primary=True`\n",
    "\n",
    "para obtener algo como:\n",
    "\n",
    "`http://www.ilga.gov/senate/SenatorBills.asp?MemberID=1911&GA=98&Primary=True`\n",
    "\n",
    "en el que `MEMBER_ID=1911`. \n",
    "\n",
    "Debería poder ver que, desafortunadamente, `MEMBER_ID` ` no es actualmente algo que se extraiga en nuestro código de raspado.\n",
    "\n",
    "Tu tarea inicial es modificar el código anterior para que también **recuperemos la URL completa que apunta a la página correspondiente de los proyectos de ley patrocinados por las primarias**, para cada miembro, y la devolvamos junto con su nombre, distrito y partido.\n",
    "\n",
    "Consejos: \n",
    "\n",
    "* Para ello, querrás obtener el elemento de anclaje apropiado (`<a>`) en cada fila de legisladores de la tabla. Puedes utilizar de nuevo el método `.select()` en el objeto `row` en el bucle para hacer esto - similar al comando que encuentra todas las celdas `td.detail` en la fila. Recuerda que sólo queremos el enlace a los proyectos de ley del legislador, no a los comités ni a la página de perfil del legislador.\n",
    "* El HTML de los elementos de anclaje tendrá el siguiente aspecto: `<a href=\"/senate/Senator.asp/...\">Bills</a>`. La cadena en el atributo `href` contiene el enlace **relative** que buscamos. Puedes acceder a un atributo de un objeto BeatifulSoup `Tag` de la misma forma que accedes a un diccionario de Python: `anchor['attributeName']`. Véase el <a href=\"http://www.crummy.com/software/BeautifulSoup/bs4/doc/#tag\">documentation</a> para más detalles.\n",
    "* Hay un montón de maneras diferentes de utilizar BeautifulSoup para hacer las cosas. lo que usted necesita hacer para sacar el `href` está bien.\n",
    "\n",
    "El código ha sido parcialmente rellenado para usted. Rellénalo donde dice `#YOUR CODE HERE`. Guarda la ruta en un objeto llamado `full_path`."
   ]
  },
  {
   "cell_type": "code",
   "execution_count": 51,
   "metadata": {
    "tags": []
   },
   "outputs": [],
   "source": [
    "# Make a GET request\n",
    "req = requests.get('https://www.ilga.gov/house/default.asp?GA=104')\n",
    "# Read the content of the server’s response\n",
    "src = req.text\n",
    "# Soup it\n",
    "soup = BeautifulSoup(src, \"lxml\")\n",
    "# Create empty list to store our data\n",
    "members = []\n",
    "\n",
    "# Returns every ‘tr tr tr’ css selector in the page\n",
    "rows = soup.select('tr tr tr')\n",
    "# Get rid of junk rows\n",
    "rows = [row for row in rows if row.select('td.detail')]\n",
    "\n",
    "# Loop through all rows\n",
    "for row in rows:\n",
    "    # Select only those 'td' tags with class 'detail'\n",
    "    detail_cells = row.select('td.detail') \n",
    "    # Keep only the text in each of those cells\n",
    "    row_data = [cell.text for cell in detail_cells]\n",
    "    # Collect information\n",
    "    name = row_data[0]\n",
    "    district = int(row_data[3])\n",
    "    party = row_data[4]\n",
    "    \n",
    "    # YOUR CODE HERE\n",
    "    # Extract href\n",
    "    href = row.select('a')[1]['href']\n",
    "    # Create full path\n",
    "    full_path = \"http://www.ilga.gov/house/\" + href + \"&Primary=True\"\n",
    "    \n",
    "    # Store in a tuple\n",
    "    senator = (name, district, party, full_path)\n",
    "    # Append to list\n",
    "    members.append(senator)"
   ]
  },
  {
   "cell_type": "code",
   "execution_count": 52,
   "metadata": {
    "tags": []
   },
   "outputs": [
    {
     "data": {
      "text/plain": [
       "[('Carol Ammons',\n",
       "  103,\n",
       "  'D',\n",
       "  'http://www.ilga.gov/house/RepBills.asp?MemberID=3309&Primary=True'),\n",
       " ('Jaime M. Andrade, Jr.',\n",
       "  40,\n",
       "  'D',\n",
       "  'http://www.ilga.gov/house/RepBills.asp?MemberID=3307&Primary=True'),\n",
       " ('Dagmara Avelar',\n",
       "  85,\n",
       "  'D',\n",
       "  'http://www.ilga.gov/house/RepBills.asp?MemberID=3391&Primary=True'),\n",
       " ('Harry Benton',\n",
       "  97,\n",
       "  'D',\n",
       "  'http://www.ilga.gov/house/RepBills.asp?MemberID=3432&Primary=True'),\n",
       " ('Diane Blair-Sherlock',\n",
       "  46,\n",
       "  'D',\n",
       "  'http://www.ilga.gov/house/RepBills.asp?MemberID=3425&Primary=True')]"
      ]
     },
     "execution_count": 52,
     "metadata": {},
     "output_type": "execute_result"
    }
   ],
   "source": [
    "# Uncomment to test \n",
    "members[:5]"
   ]
  },
  {
   "cell_type": "markdown",
   "metadata": {},
   "source": [
    "## 🥊  Desafío: Modularice su código\n",
    "\n",
    "Convierta el código anterior en una función que acepte una URL, rastree la URL en busca de sus senadores y devuelva una lista de tuplas con información sobre cada senador."
   ]
  },
  {
   "cell_type": "code",
   "execution_count": 53,
   "metadata": {
    "tags": []
   },
   "outputs": [],
   "source": [
    "# YOUR CODE HERE\n",
    "def get_members(url):\n",
    "    # Make a GET request\n",
    "    req = requests.get(url)\n",
    "    # Read the content of the server’s response\n",
    "    src = req.text\n",
    "    # Soup it\n",
    "    soup = BeautifulSoup(src, \"lxml\")\n",
    "    # Create empty list to store our data\n",
    "    members = []\n",
    "\n",
    "    # Returns every ‘tr tr tr’ css selector in the page\n",
    "    rows = soup.select('tr tr tr')\n",
    "    # Get rid of junk rows\n",
    "    rows = [row for row in rows if row.select('td.detail')]\n",
    "\n",
    "    # Loop through all rows\n",
    "    for row in rows:\n",
    "        # Select only those 'td' tags with class 'detail'\n",
    "        detail_cells = row.select('td.detail') \n",
    "        # Keep only the text in each of those cells\n",
    "        row_data = [cell.text for cell in detail_cells]\n",
    "        # Collect information\n",
    "        name = row_data[0]\n",
    "        district = int(row_data[3])\n",
    "        party = row_data[4]\n",
    "\n",
    "        # YOUR CODE HERE\n",
    "        # Extract href\n",
    "        href = row.select('a')[1]['href']\n",
    "        # Create full path\n",
    "        full_path = \"https://www.ilga.gov/house/\" + href + \"&Primary=True\"\n",
    "\n",
    "        # Store in a tuple\n",
    "        senator = (name, district, party, full_path)\n",
    "        # Append to list\n",
    "        members.append(senator)\n",
    "    return(members)"
   ]
  },
  {
   "cell_type": "code",
   "execution_count": 54,
   "metadata": {
    "tags": []
   },
   "outputs": [
    {
     "data": {
      "text/plain": [
       "118"
      ]
     },
     "execution_count": 54,
     "metadata": {},
     "output_type": "execute_result"
    }
   ],
   "source": [
    "# Test your code\n",
    "url = 'https://www.ilga.gov/house/default.asp?GA=104'\n",
    "senate_members = get_members(url)\n",
    "len(senate_members)"
   ]
  },
  {
   "cell_type": "markdown",
   "metadata": {},
   "source": [
    "## 🥊 Reto para llevar a casa: Escribir una función rascadora\n",
    "\n",
    "Queremos raspar las páginas web correspondientes a los proyectos de ley patrocinados por cada uno de ellos.\n",
    "Escribe una función llamada `get_bills(url)` para analizar una URL de facturas dada. Esto implicará:\n",
    "\n",
    "  - solicitando la URL mediante la biblioteca <a href=\"http://docs.python-requests.org/en/latest/\">`requests`</a>   - utilizando las características de la biblioteca `BeautifulSoup` para encontrar todos los elementos `<td>` con la clase `billlist`.\n",
    "  - devuelve una _lista_ de tuplas, cada una con:\n",
    "      - descripción (2ª columna)\n",
    "      - cámara (S o H) (3ª columna)\n",
    "      - la última acción (4ª columna)\n",
    "      - la fecha de la última acción (5ª columna)\n",
    "      \n",
    "Esta función se ha completado parcialmente. Rellene el resto."
   ]
  },
  {
   "cell_type": "code",
   "execution_count": 56,
   "metadata": {
    "tags": []
   },
   "outputs": [],
   "source": [
    "def get_bills(url):\n",
    "    src = requests.get(url).text\n",
    "    soup = BeautifulSoup(src)\n",
    "    rows = soup.select('tr tr tr')\n",
    "    bills = []\n",
    "    # Iterate over rows\n",
    "    for row in rows:\n",
    "        # Grab all bill list cells\n",
    "        cells = row.select('td.billlist')\n",
    "        # Keep in mind the name of the senator is not a billlist class!\n",
    "        if len(cells) == 5:\n",
    "            row_text = [cell.text for cell in cells]\n",
    "            # Extract info from row text\n",
    "            bill_id = row_text[0]\n",
    "            description = row_text[1]\n",
    "            chamber = row_text[2]\n",
    "            last_action = row_text[3]\n",
    "            last_action_date = row_text[4]\n",
    "            # Consolidate bill info\n",
    "            bill = (bill_id, description, chamber, last_action, last_action_date)\n",
    "            bills.append(bill)\n",
    "    return bills"
   ]
  },
  {
   "cell_type": "code",
   "execution_count": 57,
   "metadata": {
    "tags": []
   },
   "outputs": [
    {
     "data": {
      "text/plain": [
       "[('HB1581',\n",
       "  'EQUITABLE UNIVERSITY FUNDING',\n",
       "  'H',\n",
       "  'Rule 19(a) / Re-referred to Rules Committee',\n",
       "  '3/21/2025'),\n",
       " ('HB2466',\n",
       "  'HIGHER ED-INCARCERATED STUDENT',\n",
       "  'H',\n",
       "  'Held on Calendar Order of Second Reading - Short Debate',\n",
       "  '3/26/2025'),\n",
       " ('HB2764',\n",
       "  'CD CORR-EARNED REENTRY',\n",
       "  'H',\n",
       "  'Rule 19(a) / Re-referred to Rules Committee',\n",
       "  '3/21/2025'),\n",
       " ('HB3302',\n",
       "  'EV REBATE ACT-ADMINISTRATION',\n",
       "  'H',\n",
       "  'Rule 19(a) / Re-referred to Rules Committee',\n",
       "  '3/21/2025'),\n",
       " ('HB3355',\n",
       "  'ELEC CD-VOTE BY MAIL',\n",
       "  'H',\n",
       "  'Rule 19(a) / Re-referred to Rules Committee',\n",
       "  '3/21/2025')]"
      ]
     },
     "execution_count": 57,
     "metadata": {},
     "output_type": "execute_result"
    }
   ],
   "source": [
    "# Uncomment to test your code\n",
    "test_url = senate_members[0][3]\n",
    "get_bills(test_url)[0:5]"
   ]
  },
  {
   "cell_type": "markdown",
   "metadata": {},
   "source": [
    "### Rechazar todas las facturas\n",
    "\n",
    "Por último, crea un diccionario `bills_dict` que asigne un número de distrito (la clave) a una lista de proyectos de ley (el valor) procedentes de ese distrito. Puedes hacerlo recorriendo todos los miembros del senado en `members_dict` y llamando a `get_bills()` para cada una de sus URLs de proyectos de ley asociadas.\n",
    "\n",
    "**NOTA:** por favor llama a la función `time.sleep(1)` en cada iteración del bucle, para que no destruyamos la web del estado."
   ]
  },
  {
   "cell_type": "code",
   "execution_count": 58,
   "metadata": {
    "tags": []
   },
   "outputs": [],
   "source": [
    "# YOUR CODE HERE\n",
    "bills_dict = {}\n",
    "for member in senate_members[:5]:\n",
    "    bills_dict[member[1]] = get_bills(member[3])\n",
    "    time.sleep(1)"
   ]
  },
  {
   "cell_type": "code",
   "execution_count": 60,
   "metadata": {},
   "outputs": [
    {
     "name": "stdout",
     "output_type": "stream",
     "text": [
      "{103: [('HB1581', 'EQUITABLE UNIVERSITY FUNDING', 'H', 'Rule 19(a) / Re-referred to Rules Committee', '3/21/2025'), ('HB2466', 'HIGHER ED-INCARCERATED STUDENT', 'H', 'Held on Calendar Order of Second Reading - Short Debate', '3/26/2025'), ('HB2764', 'CD CORR-EARNED REENTRY', 'H', 'Rule 19(a) / Re-referred to Rules Committee', '3/21/2025'), ('HB3302', 'EV REBATE ACT-ADMINISTRATION', 'H', 'Rule 19(a) / Re-referred to Rules Committee', '3/21/2025'), ('HB3355', 'ELEC CD-VOTE BY MAIL', 'H', 'Rule 19(a) / Re-referred to Rules Committee', '3/21/2025'), ('HB3356', 'HAIR BRAIDING LICENSURE REPEAL', 'H', 'Held on Calendar Order of Second Reading - Short Debate', '3/26/2025'), ('HB3357', '$ST UNI CIVIL SERV-OP EXPENSES', 'H', 'Assigned to Appropriations-Pensions & Personnel', '3/11/2025'), ('HB3459', 'EMPLOYMENT-32 HOUR WORK WEEK', 'H', 'Referred to Rules Committee', '2/18/2025'), ('HB3462', 'DFPR-CRIMINAL CONVICTIONS', 'H', 'Held on Calendar Order of Second Reading - Short Debate', '3/26/2025'), ('HB3568', 'HEALTH CARE FOR ALL', 'H', 'Rule 19(a) / Re-referred to Rules Committee', '3/21/2025'), ('HB3614', 'EPA-CARBON CAPTURE-AQUIFER', 'H', 'Held on Calendar Order of Second Reading - Short Debate', '3/26/2025'), ('HR211', 'BENIN BRONZES-REPATRIATION', 'H', 'Referred to Rules Committee', '3/26/2025')], 40: [('HB1565', 'GAMBLING DATA COLLECTION ACT', 'H', 'Rule 19(a) / Re-referred to Rules Committee', '3/21/2025'), ('HB1566', 'POLICE & COMMUNITY RELATIONS', 'H', 'Referred to Rules Committee', '1/28/2025'), ('HB1617', 'VEHICLE SECURITY CIRCUMVENTION', 'H', 'Rule 19(a) / Re-referred to Rules Committee', '3/21/2025'), ('HB1618', 'VEH CD-RELAY BOX POSSESSION', 'H', 'Rule 19(a) / Re-referred to Rules Committee', '3/21/2025'), ('HB1619', 'CEMETERIES-DISTRIBUTIONS', 'H', 'Placed on Calendar Order of 3rd Reading - Short Debate', '3/25/2025'), ('HB2333', 'FINANCE-INFORMATION TECH', 'H', 'Placed on Calendar Order of 3rd Reading - Short Debate', '3/26/2025'), ('HB2432', 'VEH CD-RELOCATOR PERMIT FEE', 'H', 'Rule 19(a) / Re-referred to Rules Committee', '3/21/2025'), ('HB2461', 'VEH CD-SPEED CAMERA REVENUE', 'H', 'Held on Calendar Order of Second Reading - Short Debate', '3/26/2025'), ('HB2523', 'SCH CD-ED LICENSE-MONTESSORI', 'H', 'Rule 19(a) / Re-referred to Rules Committee', '3/21/2025'), ('HB2527', 'BURIAL TRANSPORT AGREEMENTS', 'H', 'Rule 19(a) / Re-referred to Rules Committee', '3/21/2025'), ('HB2825', 'VEH CD-SCHOOL BUS PERMITS', 'H', 'Rule 19(a) / Re-referred to Rules Committee', '3/21/2025'), ('HB2857', 'HIGHWAY WORK ZONE SAFETY ACT', 'H', 'Placed on Calendar Order of 3rd Reading - Short Debate', '3/19/2025'), ('HB3125', 'VEH CD- INSTRUCTOR DL REQ', 'H', 'Held on Calendar Order of Second Reading - Short Debate', '3/26/2025'), ('HB3163', 'REPRODUCTIVE HEALTH-PRIVACY', 'H', 'Placed on Calendar Order of 3rd Reading - Short Debate', '3/25/2025'), ('HB3438', 'TRANSPORTATION-VARIOUS', 'H', 'Placed on Calendar Order of 3rd Reading - Short Debate', '3/25/2025'), ('HB3569', 'PROP TX-INDEMNITY', 'H', 'Rule 19(a) / Re-referred to Rules Committee', '3/21/2025'), ('HB3608', 'VEH CD-CDL DRIVER SCHOOL', 'H', 'Held on Calendar Order of Second Reading - Short Debate', '3/26/2025'), ('HR192', 'NUTRITION & DIETETICS TECH DAY', 'H', 'Referred to Rules Committee', '3/19/2025'), ('HR193', 'REG DIETITIAN NUTRITIONIST DAY', 'H', 'Referred to Rules Committee', '3/19/2025'), ('HR194', 'NUTRITION MONTH', 'H', 'Referred to Rules Committee', '3/19/2025')], 85: [('HB1147', 'BUILD ILLINOIS HOMES ACT', 'H', 'Rule 19(a) / Re-referred to Rules Committee', '3/21/2025'), ('HB1279', 'DEBT RESOLUTION SERVICES ACT', 'H', 'Referred to Rules Committee', '1/28/2025'), ('HB1289', 'DEBT RESOLUTION SERVICES ACT', 'H', 'Referred to Rules Committee', '1/28/2025'), ('HB1363', 'MEDICAID-TRANSPORTATION SRVCS', 'H', 'Rule 19(a) / Re-referred to Rules Committee', '3/21/2025'), ('HB1699', 'EPA-PROVISIONAL CERTIFICATE', 'H', 'Held on Calendar Order of Second Reading - Short Debate', '3/26/2025'), ('HB1705', 'SCH CD-PANIC ALERT SYSTEM', 'H', 'Rule 19(a) / Re-referred to Rules Committee', '3/21/2025'), ('HB1736', 'PEN CD-IMRF-JOLIET PORT DIST', 'H', 'Placed on Calendar Order of 3rd Reading - Short Debate', '3/25/2025'), ('HB2528', 'DHFS-SLF-DEMENTIA CARE SETTING', 'H', 'Rule 19(a) / Re-referred to Rules Committee', '3/21/2025'), ('HB2559', 'REAL PROP DISCLSOURE-ROOF AGE', 'H', 'Rule 19(a) / Re-referred to Rules Committee', '3/21/2025'), ('HB2699', 'MEDICAID-NONIMMIGRANT STATUS', 'H', 'Held on Calendar Order of Second Reading - Short Debate', '3/26/2025'), ('HB2713', 'DHFS-MCO-DURABLE MED EQUIPMENT', 'H', 'Rule 19(a) / Re-referred to Rules Committee', '3/21/2025'), ('HB2746', 'FAIR CONTRACTING-VARIOUS', 'H', 'Rule 19(a) / Re-referred to Rules Committee', '3/21/2025'), ('HB2904', 'HEALTH CARE TRANSPARENCY', 'H', 'Rule 19(a) / Re-referred to Rules Committee', '3/21/2025'), ('HB3186', 'ADVERTISEMENT HOA FEES', 'H', 'Rule 19(a) / Re-referred to Rules Committee', '3/21/2025'), ('HB3467', 'BANKING-VARIOUS', 'H', 'Placed on Calendar Order of 3rd Reading - Short Debate', '3/25/2025'), ('HB3477', 'SM BUS FINANCING TRANSPARENCY', 'H', 'Placed on Calendar Order of 3rd Reading - Short Debate', '3/26/2025'), ('HB3561', 'INS CD-EGG & PEANUT ALLERGY', 'H', 'Rule 19(a) / Re-referred to Rules Committee', '3/21/2025'), ('HB3566', 'EVICTION OF MINORS', 'H', 'Placed on Calendar Order of 3rd Reading - Short Debate', '3/25/2025'), ('HB3571', 'COMMUNITY TRUST ACT', 'H', 'Rule 19(a) / Re-referred to Rules Committee', '3/21/2025'), ('HB3576', 'WATER UTILITY CYBERSECURITY', 'H', 'Rule 19(a) / Re-referred to Rules Committee', '3/21/2025'), ('HB3586', 'CONDO-CI ASSN-TRAINING', 'H', 'Rule 19(a) / Re-referred to Rules Committee', '3/21/2025'), ('HB3593', 'FAIR PATIENT BILLING', 'H', 'Held on Calendar Order of Second Reading - Short Debate', '3/26/2025'), ('HB3637', 'HEALTH REGULATION-VARIOUS', 'H', 'Held on Calendar Order of Second Reading - Short Debate', '3/26/2025'), ('HB3661', 'DCEO-QUANTUM INFORMATION', 'H', 'Rule 19(a) / Re-referred to Rules Committee', '3/21/2025'), ('HR115', 'STOP-IMMIGRATION ACTION', 'H', 'Resolution Adopted 073-000-000', '2/5/2025'), ('HR151', 'HUMAN SERVICES-REIMBURSEMENT', 'H', 'Referred to Rules Committee', '2/25/2025')], 97: [('HB793', 'REVENUE-TECH', 'H', 'Rule 19(a) / Re-referred to Rules Committee', '3/21/2025'), ('HB2388', 'PROP TX-SENIOR FREEZE', 'H', 'Rule 19(a) / Re-referred to Rules Committee', '3/21/2025'), ('HB2394', 'VEH CD-WEIGHT LIMIT EXEMPTION', 'H', 'Placed on Calendar Order of 3rd Reading - Short Debate', '3/20/2025'), ('HB2395', 'INC TX-UNION DUES', 'H', 'Rule 19(a) / Re-referred to Rules Committee', '3/21/2025'), ('HB2406', 'FOID-FIREARM SAFETY COURSE', 'H', 'Rule 19(a) / Re-referred to Rules Committee', '3/21/2025'), ('HB2525', 'FLEEING-ATTEMPT ELUDE OFFICER', 'H', 'Referred to Rules Committee', '2/4/2025'), ('HB2722', 'FOIA-PRELIMINARY DRAFT-STUDY', 'H', 'Rule 19(a) / Re-referred to Rules Committee', '3/21/2025'), ('HB3135', 'VIDEO GAMING-LICENSEE LOCATION', 'H', 'Rule 19(a) / Re-referred to Rules Committee', '3/21/2025'), ('HB3136', 'PROP TX-VETERANS HOMESTEAD', 'H', 'Rule 19(a) / Re-referred to Rules Committee', '3/21/2025'), ('HB3199', 'SCH CD-REQUIRE HEART SCREENING', 'H', 'Rule 19(a) / Re-referred to Rules Committee', '3/21/2025'), ('HB3201', 'ELEC CD-NO ADS FOR CHILDREN', 'H', 'Referred to Rules Committee', '2/18/2025'), ('HB3266', 'PREVAILING WAGE-TIF DISTRICT', 'H', 'Held on Calendar Order of Second Reading - Short Debate', '3/26/2025'), ('HB3268', 'CHILD CARE-QUALIFICATIONS', 'H', 'Held on Calendar Order of Second Reading - Short Debate', '3/26/2025'), ('HB3297', 'CONCEALED CARRY-RETIRED COPS', 'H', 'Referred to Rules Committee', '2/18/2025'), ('HB3305', 'PROP TX-DARK STORES', 'H', 'Rule 19(a) / Re-referred to Rules Committee', '3/21/2025'), ('HB3444', 'CHILD CARE ACT REQUIREMENTS', 'H', 'Held on Calendar Order of Second Reading - Short Debate', '3/26/2025'), ('HB3633', 'IN-STATE TUITION-MILITARY FAM', 'H', 'Rule 19(a) / Re-referred to Rules Committee', '3/21/2025'), ('HB3721', 'INS OUT-OF-NETWORK EMERGENCY', 'H', 'Held on Calendar Order of Second Reading - Short Debate', '3/26/2025'), ('HB3771', 'INS CD-PUBLIC ADJUSTERS', 'H', 'Referred to Rules Committee', '2/18/2025'), ('HB3804', 'INS CODE-POLICY READABILITY', 'H', 'Rule 19(a) / Re-referred to Rules Committee', '3/21/2025'), ('HB3841', 'PROP TX-PARK DISTRICT', 'H', 'Rule 19(a) / Re-referred to Rules Committee', '3/21/2025'), ('HB3843', 'ARTERIAL STREET SETBACK', 'H', 'Held on Calendar Order of Second Reading - Short Debate', '3/26/2025'), ('HB3872', '$DCEO-CHLDREN\\x92S MUSEUM', 'H', 'Referred to Rules Committee', '2/25/2025'), ('HB4008', 'INS-COST SHARING/DRUG REBATES', 'H', 'Referred to Rules Committee', '3/4/2025'), ('HB4009', '$ISAC-ECACE', 'H', 'Referred to Rules Committee', '3/4/2025')], 46: [('HB61', 'PROP TX-BALLOT INITIATIVES', 'H', 'Rule 19(a) / Re-referred to Rules Committee', '3/21/2025'), ('HB66', 'VEH CD-INSURANCE MINIMUMS', 'H', 'Rule 19(a) / Re-referred to Rules Committee', '3/21/2025'), ('HB67', 'COMMON INTEREST COMMUNITY-VEH', 'H', 'Held on Calendar Order of Second Reading - Short Debate', '3/26/2025'), ('HB68', 'BOTTLED WATER PRICE MAXIMUM', 'H', 'Rule 19(a) / Re-referred to Rules Committee', '3/21/2025'), ('HB69', 'PROP TX-SENIOR FREEZE', 'H', 'Rule 19(a) / Re-referred to Rules Committee', '3/21/2025'), ('HB70', 'PROP TX-DISABILITIES', 'H', 'Rule 19(a) / Re-referred to Rules Committee', '3/21/2025'), ('HB2422', 'OWNER-CONTROLLED INS PROGRAM', 'H', 'Rule 19(a) / Re-referred to Rules Committee', '3/21/2025'), ('HB2562', 'GUARDIAN TRAINING', 'H', 'Placed on Calendar Order of 3rd Reading - Short Debate', '3/19/2025'), ('HB2568', 'TRUST CODE-UNCLAIMED PROPERTY', 'H', 'Held on Calendar Order of Second Reading - Short Debate', '3/26/2025'), ('HB2700', 'MUNI CD-DUPAGE HOTEL REVENUE', 'H', 'Rule 19(a) / Re-referred to Rules Committee', '3/21/2025'), ('HB2986', 'HOLOCAUST COMM-SCHOOLS-MISC', 'H', 'Placed on Calendar Order of 3rd Reading - Short Debate', '3/19/2025'), ('HB3095', 'GUARDIAN AND ADVOCACY-MEMBERS', 'H', 'Held on Calendar Order of Second Reading - Short Debate', '3/26/2025'), ('HB3516', 'HIGHER ED-DUAL CREDIT', 'H', 'Rule 19(a) / Re-referred to Rules Committee', '3/21/2025'), ('HR39', 'AUTISM AWARENESS MONTH', 'H', 'Placed on Calendar Order of Resolutions', '3/4/2025'), ('HR175', 'DEAF HISTORY MONTH', 'H', 'Referred to Rules Committee', '3/11/2025')]}\n"
     ]
    }
   ],
   "source": [
    "print(bills_dict)"
   ]
  },
  {
   "cell_type": "code",
   "execution_count": 61,
   "metadata": {
    "tags": []
   },
   "outputs": [
    {
     "data": {
      "text/plain": [
       "12"
      ]
     },
     "execution_count": 61,
     "metadata": {},
     "output_type": "execute_result"
    }
   ],
   "source": [
    "# Uncomment to test your code\n",
    "len(bills_dict[103])"
   ]
  }
 ],
 "metadata": {
  "anaconda-cloud": {},
  "kernelspec": {
   "display_name": "base",
   "language": "python",
   "name": "python3"
  },
  "language_info": {
   "codemirror_mode": {
    "name": "ipython",
    "version": 3
   },
   "file_extension": ".py",
   "mimetype": "text/x-python",
   "name": "python",
   "nbconvert_exporter": "python",
   "pygments_lexer": "ipython3",
   "version": "3.12.7"
  }
 },
 "nbformat": 4,
 "nbformat_minor": 4
}
