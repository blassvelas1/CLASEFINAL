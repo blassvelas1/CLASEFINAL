{
 "cells": [
  {
   "cell_type": "markdown",
   "metadata": {},
   "source": [
    "# PROCESAMIENTO DE DATOS \n",
    "\n",
    "* * * \n",
    "\n",
    "### Iconos utilizados en este cuaderno\n",
    "🔔 **Pregunta**: Una pregunta rápida para ayudarte a entender lo que está pasando.<br>\n",
    "🥊 **Desafío**: Extraer la Data del sitio Web (web-scraping) para su análisis!<br>\n",
    "⚠️ **Advertencia**: Aviso sobre cosas complicadas o errores comunes.<br>\n",
    "💡 **Consejo**: Cómo hacer algo de manera más eficiente o efectiva.<br>\n",
    "🎬 **Demostración**: Mostrar algo más avanzado, Creamos la Base de Datos y Graficamos.<br>\n"
   ]
  },
  {
   "cell_type": "markdown",
   "metadata": {},
   "source": [
    "<a id='when'></a>\n",
    "\n",
    "# Es seguro extraer la Data de un sitio WEB\n",
    "\n",
    "Cuando queremos acceder a datos de la web, primero debemos asegurarnos que el sitio web que nos interesa ofresca una API web. Plataformas como Twitter, Reddit, el New York Times y ciertas páginas gubernamentales ofrecen APIs. \n",
    "\n",
    "Sin embargo, a menudo hay casos en los que no existe una API web. En estos casos, podemos recurrir al web scraping, donde extraemos el HTML de una página web y obtenemos directamente la información que queremos. \n",
    "\n",
    "Nuestra data es extraída de el repositorio [senadores estatales de Illinois](http://www.ilga.gov/senate) ya que este sitio ofrece un sinúmeo de repositorios con los que podemos trabajar es asi que la investigación nos llevó a detectar que existen repositorios desde la **93ava hasta la 104ava asamblea**, sitio del cual escogimos la [lista de senadores que laboran desde casa](https://www.ilga.gov/house/default.asp?GA=104) **104ava** que es diferente a la ya estudiada pero su estructura es similar.\n"
   ]
  },
  {
   "cell_type": "markdown",
   "metadata": {},
   "source": [
    "\n",
    "\n",
    "## El desafío comienza con la adecuación del Escenario\n",
    "\n",
    "Usaremos dos paquetes principales: **Requests, Beautiful Soup, Psycopg2, Matplotlib.pyplot, Seaborn, Numpy y Pandas**\n"
   ]
  },
  {
   "cell_type": "code",
   "execution_count": 45,
   "metadata": {},
   "outputs": [
    {
     "name": "stdout",
     "output_type": "stream",
     "text": [
      "Requirement already satisfied: requests in /opt/conda/lib/python3.12/site-packages (2.32.3)\n",
      "Requirement already satisfied: charset-normalizer<4,>=2 in /opt/conda/lib/python3.12/site-packages (from requests) (3.3.2)\n",
      "Requirement already satisfied: idna<4,>=2.5 in /opt/conda/lib/python3.12/site-packages (from requests) (3.7)\n",
      "Requirement already satisfied: urllib3<3,>=1.21.1 in /opt/conda/lib/python3.12/site-packages (from requests) (2.2.3)\n",
      "Requirement already satisfied: certifi>=2017.4.17 in /opt/conda/lib/python3.12/site-packages (from requests) (2025.1.31)\n",
      "Note: you may need to restart the kernel to use updated packages.\n"
     ]
    }
   ],
   "source": [
    "%pip install requests"
   ]
  },
  {
   "cell_type": "code",
   "execution_count": 46,
   "metadata": {},
   "outputs": [
    {
     "name": "stdout",
     "output_type": "stream",
     "text": [
      "Requirement already satisfied: beautifulsoup4 in /opt/conda/lib/python3.12/site-packages (4.12.3)\n",
      "Requirement already satisfied: soupsieve>1.2 in /opt/conda/lib/python3.12/site-packages (from beautifulsoup4) (2.5)\n",
      "Note: you may need to restart the kernel to use updated packages.\n"
     ]
    }
   ],
   "source": [
    "%pip install beautifulsoup4"
   ]
  },
  {
   "cell_type": "markdown",
   "metadata": {},
   "source": [
    "También instalaremos el paquete `lxml` que ayuda a soportar parte del análisis que realiza Beautiful Soup:"
   ]
  },
  {
   "cell_type": "code",
   "execution_count": 47,
   "metadata": {},
   "outputs": [
    {
     "name": "stdout",
     "output_type": "stream",
     "text": [
      "Requirement already satisfied: lxml in /opt/conda/lib/python3.12/site-packages (5.2.1)\n",
      "Note: you may need to restart the kernel to use updated packages.\n"
     ]
    }
   ],
   "source": [
    "%pip install lxml"
   ]
  },
  {
   "cell_type": "markdown",
   "metadata": {},
   "source": [
    "Importamos las Librerías que vamos a necesitar"
   ]
  },
  {
   "cell_type": "code",
   "execution_count": 48,
   "metadata": {
    "tags": []
   },
   "outputs": [],
   "source": [
    "# Import required libraries\n",
    "from bs4 import BeautifulSoup\n",
    "from datetime import datetime\n",
    "import requests\n",
    "import time"
   ]
  },
  {
   "cell_type": "markdown",
   "metadata": {},
   "source": [
    "<a id='extract'></a>\n",
    "\n",
    "# Extracción y Análisis de HTML \n",
    "\n",
    "Para realizar correctamente la extracción y el análisis de HTML, seguiremos los siguientes 4 pasos:\n",
    "1. Realizar una solicitud GET\n",
    "2. Analizar la página con Beautiful Soup\n",
    "3. Buscar elementos HTML\n",
    "4. Obtener atributos y texto de estos elementos"
   ]
  },
  {
   "cell_type": "markdown",
   "metadata": {},
   "source": [
    "## Paso 1: Solicitud GET\n",
    "\n",
    "Podemos usar la biblioteca Requests para:\n",
    "\n",
    "1. Hacer una solicitud GET a la página, y  \n",
    "2. Leer el código HTML de la página web.\n",
    "\n",
    "El proceso de realizar una solicitud y obtener un resultado se asemeja al flujo de trabajo de una API web. Sin embargo, en este caso, estamos haciendo una solicitud directamente al sitio web, y tendremos que analizar el HTML por nuestra cuenta. Esto contrasta con recibir datos organizados en un formato más sencillo como `JSON` o `XML`.\n"
   ]
  },
  {
   "cell_type": "code",
   "execution_count": 49,
   "metadata": {
    "tags": []
   },
   "outputs": [],
   "source": [
    "# Make a GET request\n",
    "req = requests.get('https://www.ilga.gov/house/default.asp')\n",
    "# Read the content of the server’s response\n",
    "src = req.text\n",
    "# Parse the response into an HTML tree\n",
    "soup = BeautifulSoup(src, 'lxml')"
   ]
  },
  {
   "cell_type": "markdown",
   "metadata": {},
   "source": [
    "## Paso 2: Analizar la Página con Beautiful Soup\n",
    "\n",
    "Ahora utilizamos la función `BeautifulSoup` para analizar la respuesta y convertirla en un árbol HTML. Esto devuelve un objeto (llamado **soup object**) que contiene todo el HTML del documento original."
   ]
  },
  {
   "cell_type": "code",
   "execution_count": 50,
   "metadata": {},
   "outputs": [
    {
     "name": "stdout",
     "output_type": "stream",
     "text": [
      "<html lang=\"en\">\n",
      " <!-- Trigger/Open The Modal -->\n",
      " <body>\n",
      "  <div style=\"position: fixed; z-index: 999; top: 5; left: 600; background-color: navy; display: block\">\n",
      "   <button id=\"myBtn\" style=\"color: white; background-color: navy; display: block\">\n",
      "    Translate Website\n",
      "   </button>\n",
      "  </div>\n",
      "  <!-- The Modal -->\n",
      "  <div class=\"modal\" id=\"myModal\" style=\"display: none\">\n",
      "   <!-- Modal content -->\n",
      "   <div class=\"modal-content\">\n",
      "    <div class=\"modal-header\">\n",
      "     <h3>\n",
      "      <span class=\"close\">\n",
      "       ×\n",
      "      </span>\n",
      "     </h3>\n",
      "    </div>\n",
      "    <p>\n",
      "     The Illinois General Assembly offers the Google Translate service for visitor convenience. In no way should it be considered accurate as to the translation of any content herein.\n",
      "    </p>\n",
      "    <p>\n",
      "     Visitors of the Illinois General Assembly website are encouraged to use other translation services available on the internet.\n",
      "    </p>\n",
      "    <p>\n",
      "     The English language version is always the official and authoritative version of this website.\n",
      "   \n"
     ]
    }
   ],
   "source": [
    "# Parse the response into an HTML tree\n",
    "soup = BeautifulSoup(src, 'lxml')\n",
    "# Take a look\n",
    "print(soup.prettify()[:1000])"
   ]
  },
  {
   "cell_type": "markdown",
   "metadata": {},
   "source": [
    "La salida se ve bastante similar a la anterior, pero ahora está organizada en un objeto `soup`, lo que nos permite recorrer la página con mayor facilidad.\n"
   ]
  },
  {
   "cell_type": "markdown",
   "metadata": {},
   "source": [
    "## Paso 3: Buscar Elementos HTML\n",
    "\n",
    "Beautiful Soup ofrece varias funciones para encontrar componentes útiles en una página. Permite buscar elementos utilizando:\n",
    "\n",
    "1. Etiquetas HTML  \n",
    "2. Atributos HTML  \n",
    "3. Selectores CSS  \n",
    "\n",
    "Primero, busquemos **etiquetas HTML**.  \n",
    "\n",
    "La función `find_all` busca en el árbol de `soup` todos los elementos con una etiqueta HTML específica y devuelve todos esos elementos.\n"
   ]
  },
  {
   "cell_type": "code",
   "execution_count": 51,
   "metadata": {},
   "outputs": [
    {
     "name": "stdout",
     "output_type": "stream",
     "text": [
      "[<a class=\"goog-logo-link\" href=\"https://translate.google.com\" target=\"_blank\"><img alt=\"Google Translate\" height=\"14\" src=\"https://www.gstatic.com/images/branding/googlelogo/1x/googlelogo_color_42x16dp.png\" style=\"padding-right: 3px;\" width=\"37\"/>Translate</a>, <a href=\"/default.asp\"><img alt=\"Illinois General Assembly\" border=\"0\" height=\"49\" src=\"/images/logo_sm.gif\" width=\"462\"/></a>, <a class=\"mainmenu\" href=\"/\">Home</a>, <a class=\"mainmenu\" href=\"/legislation/\" onblur=\"HM_f_PopDown('elMenu1')\" onfocus=\"HM_f_PopUp('elMenu1',event)\" onmouseout=\"HM_f_PopDown('elMenu1')\" onmouseover=\"HM_f_PopUp('elMenu1',event)\">Legislation &amp; Laws</a>, <a class=\"mainmenu\" href=\"/senate/\" onblur=\"HM_f_PopDown('elMenu3')\" onfocus=\"HM_f_PopUp('elMenu3',event)\" onmouseout=\"HM_f_PopDown('elMenu3')\" onmouseover=\"HM_f_PopUp('elMenu3',event)\">Senate</a>, <a class=\"mainmenu\" href=\"/house/\" onblur=\"HM_f_PopDown('elMenu2')\" onfocus=\"HM_f_PopUp('elMenu2',event)\" onmouseout=\"HM_f_PopDown('elMenu2')\" onmouseover=\"HM_f_PopUp('elMenu2',event)\">House</a>, <a class=\"mainmenu\" href=\"/mylegislation/\" onblur=\"HM_f_PopDown('elMenu4')\" onfocus=\"HM_f_PopUp('elMenu4',event)\" onmouseout=\"HM_f_PopDown('elMenu4')\" onmouseover=\"HM_f_PopUp('elMenu4',event)\">My Legislation</a>, <a class=\"mainmenu\" href=\"/sitemap.asp\">Site Map</a>, <a class=\"sidemenu\" href=\"/house/default.asp\">  Members  </a>, <a class=\"sidemenu\" href=\"/house/committees/default.asp\">  Committees  </a>]\n"
     ]
    }
   ],
   "source": [
    "# Find all elements with a certain tag\n",
    "a_tags = soup.find_all(\"a\")\n",
    "print(a_tags[:10])"
   ]
  },
  {
   "cell_type": "markdown",
   "metadata": {},
   "source": [
    "Dado que `find_all()` es el método más popular en la API de búsqueda de Beautiful Soup, existe un atajo para usarlo.\n",
    "\n",
    "Si tratas al objeto `BeautifulSoup` como si fuera una función, es equivalente a llamar a `find_all()` en ese objeto."
   ]
  },
  {
   "cell_type": "code",
   "execution_count": 52,
   "metadata": {
    "tags": []
   },
   "outputs": [
    {
     "name": "stdout",
     "output_type": "stream",
     "text": [
      "<a class=\"goog-logo-link\" href=\"https://translate.google.com\" target=\"_blank\"><img alt=\"Google Translate\" height=\"14\" src=\"https://www.gstatic.com/images/branding/googlelogo/1x/googlelogo_color_42x16dp.png\" style=\"padding-right: 3px;\" width=\"37\"/>Translate</a>\n",
      "<a class=\"goog-logo-link\" href=\"https://translate.google.com\" target=\"_blank\"><img alt=\"Google Translate\" height=\"14\" src=\"https://www.gstatic.com/images/branding/googlelogo/1x/googlelogo_color_42x16dp.png\" style=\"padding-right: 3px;\" width=\"37\"/>Translate</a>\n"
     ]
    }
   ],
   "source": [
    "a_tags = soup.find_all(\"a\")\n",
    "a_tags_alt = soup(\"a\")\n",
    "print(a_tags[0])\n",
    "print(a_tags_alt[0])"
   ]
  },
  {
   "cell_type": "markdown",
   "metadata": {},
   "source": [
    "¿Cuántos enlaces obtuvimos?"
   ]
  },
  {
   "cell_type": "code",
   "execution_count": 53,
   "metadata": {},
   "outputs": [
    {
     "name": "stdout",
     "output_type": "stream",
     "text": [
      "382\n"
     ]
    }
   ],
   "source": [
    "print(len(a_tags))"
   ]
  },
  {
   "cell_type": "markdown",
   "metadata": {},
   "source": [
    "¡Eso es mucho! Muchos elementos en una página tendrán la misma etiqueta HTML, estamos encontrando todas las etiquetas `a` y luego filtrando aquellas con `class_=\"sidemenu\"`:"
   ]
  },
  {
   "cell_type": "code",
   "execution_count": 54,
   "metadata": {
    "tags": []
   },
   "outputs": [
    {
     "data": {
      "text/plain": [
       "[<a class=\"sidemenu\" href=\"/house/default.asp\">  Members  </a>,\n",
       " <a class=\"sidemenu\" href=\"/house/committees/default.asp\">  Committees  </a>,\n",
       " <a class=\"sidemenu\" href=\"/house/schedules/default.asp\">  Schedules  </a>,\n",
       " <a class=\"sidemenu\" href=\"/house/journals/default.asp\">  Journals  </a>,\n",
       " <a class=\"sidemenu\" href=\"/house/transcripts/default.asp\">  Transcripts  </a>]"
      ]
     },
     "execution_count": 54,
     "metadata": {},
     "output_type": "execute_result"
    }
   ],
   "source": [
    "# Get only the 'a' tags in 'sidemenu' class\n",
    "side_menus = soup(\"a\", class_=\"sidemenu\")\n",
    "side_menus[:5]"
   ]
  },
  {
   "cell_type": "markdown",
   "metadata": {},
   "source": [
    "Podemos usar `\"a.sidemenu\"` como selector CSS, lo que devuelve todas las etiquetas `a` con la clase `sidemenu`.\n",
    "\n"
   ]
  },
  {
   "cell_type": "code",
   "execution_count": 55,
   "metadata": {
    "tags": []
   },
   "outputs": [
    {
     "data": {
      "text/plain": [
       "[<a class=\"sidemenu\" href=\"/house/default.asp\">  Members  </a>,\n",
       " <a class=\"sidemenu\" href=\"/house/committees/default.asp\">  Committees  </a>,\n",
       " <a class=\"sidemenu\" href=\"/house/schedules/default.asp\">  Schedules  </a>,\n",
       " <a class=\"sidemenu\" href=\"/house/journals/default.asp\">  Journals  </a>,\n",
       " <a class=\"sidemenu\" href=\"/house/transcripts/default.asp\">  Transcripts  </a>]"
      ]
     },
     "execution_count": 55,
     "metadata": {},
     "output_type": "execute_result"
    }
   ],
   "source": [
    "# Get elements with \"a.sidemenu\" CSS Selector.\n",
    "selected = soup.select(\"a.sidemenu\")\n",
    "selected[:5]"
   ]
  },
  {
   "cell_type": "markdown",
   "metadata": {},
   "source": [
    "## 🥊 Desafío: Encontrar Todos los Elementos de la Data\n",
    "\n",
    "Usamos BeautifulSoup para encontrar todos los elementos `a` con la clase `mainmenu`."
   ]
  },
  {
   "cell_type": "code",
   "execution_count": 56,
   "metadata": {},
   "outputs": [
    {
     "data": {
      "text/plain": [
       "[<a class=\"mainmenu\" href=\"/\">Home</a>,\n",
       " <a class=\"mainmenu\" href=\"/legislation/\" onblur=\"HM_f_PopDown('elMenu1')\" onfocus=\"HM_f_PopUp('elMenu1',event)\" onmouseout=\"HM_f_PopDown('elMenu1')\" onmouseover=\"HM_f_PopUp('elMenu1',event)\">Legislation &amp; Laws</a>,\n",
       " <a class=\"mainmenu\" href=\"/senate/\" onblur=\"HM_f_PopDown('elMenu3')\" onfocus=\"HM_f_PopUp('elMenu3',event)\" onmouseout=\"HM_f_PopDown('elMenu3')\" onmouseover=\"HM_f_PopUp('elMenu3',event)\">Senate</a>,\n",
       " <a class=\"mainmenu\" href=\"/house/\" onblur=\"HM_f_PopDown('elMenu2')\" onfocus=\"HM_f_PopUp('elMenu2',event)\" onmouseout=\"HM_f_PopDown('elMenu2')\" onmouseover=\"HM_f_PopUp('elMenu2',event)\">House</a>,\n",
       " <a class=\"mainmenu\" href=\"/mylegislation/\" onblur=\"HM_f_PopDown('elMenu4')\" onfocus=\"HM_f_PopUp('elMenu4',event)\" onmouseout=\"HM_f_PopDown('elMenu4')\" onmouseover=\"HM_f_PopUp('elMenu4',event)\">My Legislation</a>,\n",
       " <a class=\"mainmenu\" href=\"/sitemap.asp\">Site Map</a>]"
      ]
     },
     "execution_count": 56,
     "metadata": {},
     "output_type": "execute_result"
    }
   ],
   "source": [
    "# YOUR CODE HERE\n",
    "soup.select(\"a.mainmenu\")"
   ]
  },
  {
   "cell_type": "markdown",
   "metadata": {},
   "source": [
    "## Paso 4: Se obtiene los Atributos y Texto\n",
    "\n",
    "Una vez que identificamos los elementos, queremos acceder a la información dentro de ellos. Generalmente, esto significa dos cosas: **Texto , Atributos**  \n",
    "\n",
    "Para obtener todo lo que tenemos que hacer es usar el miembro `text` de un objeto `tag`:"
   ]
  },
  {
   "cell_type": "code",
   "execution_count": 57,
   "metadata": {
    "tags": []
   },
   "outputs": [
    {
     "name": "stdout",
     "output_type": "stream",
     "text": [
      "<a class=\"sidemenu\" href=\"/house/default.asp\">  Members  </a>\n",
      "Class:  <class 'bs4.element.Tag'>\n"
     ]
    }
   ],
   "source": [
    "# Get all sidemenu links as a list\n",
    "side_menu_links = soup.select(\"a.sidemenu\")\n",
    "\n",
    "# Examine the first link\n",
    "first_link = side_menu_links[0]\n",
    "print(first_link)\n",
    "\n",
    "# What class is this variable?\n",
    "print('Class: ', type(first_link))"
   ]
  },
  {
   "cell_type": "markdown",
   "metadata": {},
   "source": [
    "¡Es una etiqueta de Beautiful Soup! Esto significa que tiene un miembro `text`:"
   ]
  },
  {
   "cell_type": "code",
   "execution_count": 58,
   "metadata": {
    "tags": []
   },
   "outputs": [
    {
     "name": "stdout",
     "output_type": "stream",
     "text": [
      "  Members  \n"
     ]
    }
   ],
   "source": [
    "print(first_link.text)"
   ]
  },
  {
   "cell_type": "markdown",
   "metadata": {},
   "source": [
    "A veces queremos obtener el valor de ciertos atributos. Esto es particularmente relevante para las etiquetas `a`, o enlaces, donde el atributo `href` nos indica a dónde lleva el enlace."
   ]
  },
  {
   "cell_type": "code",
   "execution_count": 59,
   "metadata": {
    "tags": []
   },
   "outputs": [
    {
     "name": "stdout",
     "output_type": "stream",
     "text": [
      "/house/default.asp\n"
     ]
    }
   ],
   "source": [
    "print(first_link['href'])"
   ]
  },
  {
   "cell_type": "markdown",
   "metadata": {},
   "source": [
    "## 🥊 Se Extrae la Data específica\n",
    "\n",
    "Se extrae todos los atributos `href` de cada URL con la clase `mainmenu`."
   ]
  },
  {
   "cell_type": "code",
   "execution_count": 60,
   "metadata": {},
   "outputs": [
    {
     "data": {
      "text/plain": [
       "['/',\n",
       " '/legislation/',\n",
       " '/senate/',\n",
       " '/house/',\n",
       " '/mylegislation/',\n",
       " '/sitemap.asp']"
      ]
     },
     "execution_count": 60,
     "metadata": {},
     "output_type": "execute_result"
    }
   ],
   "source": [
    "[link['href'] for link in soup.select(\"a.mainmenu\")]"
   ]
  },
  {
   "cell_type": "markdown",
   "metadata": {},
   "source": [
    "# Extraemos la data de la 104ava Asamblea\n",
    "Luego del análisis realizado a la http://www.ilga.gov/house/default.asp?GA=104 nos centraremos en extraer la data y eliminar los datos inconsistentes (nulos y vacios) utilizamos Beautiful Soup y Python."
   ]
  },
  {
   "cell_type": "code",
   "execution_count": 61,
   "metadata": {
    "tags": []
   },
   "outputs": [],
   "source": [
    "# Make a GET request\n",
    "req = requests.get('https://www.ilga.gov/house/default.asp?GA=104')\n",
    "# Read the content of the server’s response\n",
    "src = req.text\n",
    "# Soup it\n",
    "soup = BeautifulSoup(src, \"lxml\")"
   ]
  },
  {
   "cell_type": "markdown",
   "metadata": {},
   "source": [
    "## Buscar los elementos de la tabla\n",
    "\n",
    "Nuestro objetivo es obtener los elementos de la tabla en la página web, las filas se identifican con la etiqueta `tr`. Usaremos `find_all` para obtener estos elementos."
   ]
  },
  {
   "cell_type": "code",
   "execution_count": 62,
   "metadata": {},
   "outputs": [
    {
     "data": {
      "text/plain": [
       "136"
      ]
     },
     "execution_count": 62,
     "metadata": {},
     "output_type": "execute_result"
    }
   ],
   "source": [
    "# Get all table row elements\n",
    "rows = soup.find_all(\"tr\")\n",
    "len(rows)"
   ]
  },
  {
   "cell_type": "markdown",
   "metadata": {},
   "source": [
    "⚠️ **Advertencia**: Como se observa se obtuvo un total de 136 elementos"
   ]
  },
  {
   "cell_type": "code",
   "execution_count": 63,
   "metadata": {},
   "outputs": [
    {
     "name": "stdout",
     "output_type": "stream",
     "text": [
      "<tr><td colspan=\"5\">\n",
      "<span class=\"heading\">Current House Members</span>\n",
      "<span class=\"italics\">  104th General Assembly</span><br/>\n",
      "<!--Removed link for Current only temporarily at rollover- please leave Previous check in so at next rollover it still shows for previous ga-->\n",
      "<span class=\"content\"> <a href=\"104th_House_Officers.pdf\">Officers of the General Assembly</a></span><br/><span class=\"content\"><b>Democrats:</b> 78   <b>Republicans:</b> 40</span><br/>\n",
      "</td></tr> \n",
      "\n",
      "<tr>\n",
      "<td class=\"header\" width=\"45%\"><a class=\"filetab\" href=\"javascript:Sort('LastName','',104);\" title=\"Sort by Representative\">Representative</a></td>\n",
      "<td align=\"center\" class=\"header\" width=\"15%\">Bills</td>\n",
      "<td align=\"center\" class=\"header\" width=\"10%\">Committees</td>\n",
      "<td align=\"center\" class=\"header\" width=\"15%\"><a class=\"filetab\" href=\"javascript:Sort('DistrictNumber','',104);\" title=\"Sort by District\">District</a></td>\n",
      "<td align=\"center\" class=\"header\" width=\"15%\"><a class=\"filetab\" href=\"javascript:Sort('Party','',104);\" title=\"Sort by Party\">Party</a></td>\n",
      "</tr> \n",
      "\n",
      "<tr><td bgcolor=\"white\" class=\"detail\" width=\"40%\"><a class=\"notranslate\" href=\"/house/Rep.asp?GA=104&amp;MemberID=3309\">Carol Ammons</a></td><td align=\"center\" bgcolor=\"white\" class=\"detail\" width=\"15%\"><a href=\"RepBills.asp?MemberID=3309\">Bills</a></td><td align=\"center\" bgcolor=\"white\" class=\"detail\" width=\"15%\"><a href=\"RepCommittees.asp?MemberID=3309\">Committees</a></td><td align=\"center\" bgcolor=\"white\" class=\"notranslate detail\" width=\"15%\">103</td><td align=\"center\" bgcolor=\"white\" class=\"notranslate detail\" width=\"15%\">D</td></tr> \n",
      "\n",
      "<tr><td bgcolor=\"EBEBEB\" class=\"detail\" width=\"40%\"><a class=\"notranslate\" href=\"/house/Rep.asp?GA=104&amp;MemberID=3307\">Jaime M. Andrade, Jr.</a></td><td align=\"center\" bgcolor=\"EBEBEB\" class=\"detail\" width=\"15%\"><a href=\"RepBills.asp?MemberID=3307\">Bills</a></td><td align=\"center\" bgcolor=\"EBEBEB\" class=\"detail\" width=\"15%\"><a href=\"RepCommittees.asp?MemberID=3307\">Committees</a></td><td align=\"center\" bgcolor=\"EBEBEB\" class=\"notranslate detail\" width=\"15%\">40</td><td align=\"center\" bgcolor=\"EBEBEB\" class=\"notranslate detail\" width=\"15%\">D</td></tr> \n",
      "\n",
      "<tr><td bgcolor=\"white\" class=\"detail\" width=\"40%\"><a class=\"notranslate\" href=\"/house/Rep.asp?GA=104&amp;MemberID=3391\">Dagmara Avelar</a></td><td align=\"center\" bgcolor=\"white\" class=\"detail\" width=\"15%\"><a href=\"RepBills.asp?MemberID=3391\">Bills</a></td><td align=\"center\" bgcolor=\"white\" class=\"detail\" width=\"15%\"><a href=\"RepCommittees.asp?MemberID=3391\">Committees</a></td><td align=\"center\" bgcolor=\"white\" class=\"notranslate detail\" width=\"15%\">85</td><td align=\"center\" bgcolor=\"white\" class=\"notranslate detail\" width=\"15%\">D</td></tr> \n",
      "\n"
     ]
    }
   ],
   "source": [
    "# Returns every ‘tr tr tr’ css selector in the page\n",
    "rows = soup.select('tr tr tr')\n",
    "\n",
    "for row in rows[:5]:\n",
    "    print(row, '\\n')"
   ]
  },
  {
   "cell_type": "markdown",
   "metadata": {},
   "source": [
    "Queremos todo lo que queda después de las dos primeras filas. Empecemos con una sola fila y construyamos nuestro bucle a partir de ahí."
   ]
  },
  {
   "cell_type": "code",
   "execution_count": 64,
   "metadata": {},
   "outputs": [
    {
     "name": "stdout",
     "output_type": "stream",
     "text": [
      "<tr>\n",
      " <td bgcolor=\"white\" class=\"detail\" width=\"40%\">\n",
      "  <a class=\"notranslate\" href=\"/house/Rep.asp?GA=104&amp;MemberID=3309\">\n",
      "   Carol Ammons\n",
      "  </a>\n",
      " </td>\n",
      " <td align=\"center\" bgcolor=\"white\" class=\"detail\" width=\"15%\">\n",
      "  <a href=\"RepBills.asp?MemberID=3309\">\n",
      "   Bills\n",
      "  </a>\n",
      " </td>\n",
      " <td align=\"center\" bgcolor=\"white\" class=\"detail\" width=\"15%\">\n",
      "  <a href=\"RepCommittees.asp?MemberID=3309\">\n",
      "   Committees\n",
      "  </a>\n",
      " </td>\n",
      " <td align=\"center\" bgcolor=\"white\" class=\"notranslate detail\" width=\"15%\">\n",
      "  103\n",
      " </td>\n",
      " <td align=\"center\" bgcolor=\"white\" class=\"notranslate detail\" width=\"15%\">\n",
      "  D\n",
      " </td>\n",
      "</tr>\n",
      "\n"
     ]
    }
   ],
   "source": [
    "example_row = rows[2]\n",
    "print(example_row.prettify())"
   ]
  },
  {
   "cell_type": "markdown",
   "metadata": {},
   "source": [
    "Desglosemos esta fila en sus celdas/columnas mediante el método `select` con los métodos CSS. \n",
    "* Podríamos identificar las celdas por su etiqueta `td`.\n",
    "* Podríamos usar el nombre de clase `.detail`.\n",
    "* Podríamos combinar ambos y usar el selector `td.detail`."
   ]
  },
  {
   "cell_type": "code",
   "execution_count": 65,
   "metadata": {},
   "outputs": [
    {
     "name": "stdout",
     "output_type": "stream",
     "text": [
      "<td bgcolor=\"white\" class=\"detail\" width=\"40%\"><a class=\"notranslate\" href=\"/house/Rep.asp?GA=104&amp;MemberID=3309\">Carol Ammons</a></td>\n",
      "<td align=\"center\" bgcolor=\"white\" class=\"detail\" width=\"15%\"><a href=\"RepBills.asp?MemberID=3309\">Bills</a></td>\n",
      "<td align=\"center\" bgcolor=\"white\" class=\"detail\" width=\"15%\"><a href=\"RepCommittees.asp?MemberID=3309\">Committees</a></td>\n",
      "<td align=\"center\" bgcolor=\"white\" class=\"notranslate detail\" width=\"15%\">103</td>\n",
      "<td align=\"center\" bgcolor=\"white\" class=\"notranslate detail\" width=\"15%\">D</td>\n",
      "\n",
      "<td bgcolor=\"white\" class=\"detail\" width=\"40%\"><a class=\"notranslate\" href=\"/house/Rep.asp?GA=104&amp;MemberID=3309\">Carol Ammons</a></td>\n",
      "<td align=\"center\" bgcolor=\"white\" class=\"detail\" width=\"15%\"><a href=\"RepBills.asp?MemberID=3309\">Bills</a></td>\n",
      "<td align=\"center\" bgcolor=\"white\" class=\"detail\" width=\"15%\"><a href=\"RepCommittees.asp?MemberID=3309\">Committees</a></td>\n",
      "<td align=\"center\" bgcolor=\"white\" class=\"notranslate detail\" width=\"15%\">103</td>\n",
      "<td align=\"center\" bgcolor=\"white\" class=\"notranslate detail\" width=\"15%\">D</td>\n",
      "\n",
      "<td bgcolor=\"white\" class=\"detail\" width=\"40%\"><a class=\"notranslate\" href=\"/house/Rep.asp?GA=104&amp;MemberID=3309\">Carol Ammons</a></td>\n",
      "<td align=\"center\" bgcolor=\"white\" class=\"detail\" width=\"15%\"><a href=\"RepBills.asp?MemberID=3309\">Bills</a></td>\n",
      "<td align=\"center\" bgcolor=\"white\" class=\"detail\" width=\"15%\"><a href=\"RepCommittees.asp?MemberID=3309\">Committees</a></td>\n",
      "<td align=\"center\" bgcolor=\"white\" class=\"notranslate detail\" width=\"15%\">103</td>\n",
      "<td align=\"center\" bgcolor=\"white\" class=\"notranslate detail\" width=\"15%\">D</td>\n",
      "\n"
     ]
    }
   ],
   "source": [
    "for cell in example_row.select('td'):\n",
    "    print(cell)\n",
    "print()\n",
    "\n",
    "for cell in example_row.select('.detail'):\n",
    "    print(cell)\n",
    "print()\n",
    "\n",
    "for cell in example_row.select('td.detail'):\n",
    "    print(cell)\n",
    "print()"
   ]
  },
  {
   "cell_type": "markdown",
   "metadata": {},
   "source": [
    "Confirmamos que todas son iguales."
   ]
  },
  {
   "cell_type": "code",
   "execution_count": 66,
   "metadata": {
    "tags": []
   },
   "outputs": [],
   "source": [
    "assert example_row.select('td') == example_row.select('.detail') == example_row.select('td.detail')"
   ]
  },
  {
   "cell_type": "markdown",
   "metadata": {},
   "source": [
    "Utilisamos el selector `td.detail` para ser lo más específicos posibles."
   ]
  },
  {
   "cell_type": "code",
   "execution_count": 67,
   "metadata": {},
   "outputs": [
    {
     "data": {
      "text/plain": [
       "[<td bgcolor=\"white\" class=\"detail\" width=\"40%\"><a class=\"notranslate\" href=\"/house/Rep.asp?GA=104&amp;MemberID=3309\">Carol Ammons</a></td>,\n",
       " <td align=\"center\" bgcolor=\"white\" class=\"detail\" width=\"15%\"><a href=\"RepBills.asp?MemberID=3309\">Bills</a></td>,\n",
       " <td align=\"center\" bgcolor=\"white\" class=\"detail\" width=\"15%\"><a href=\"RepCommittees.asp?MemberID=3309\">Committees</a></td>,\n",
       " <td align=\"center\" bgcolor=\"white\" class=\"notranslate detail\" width=\"15%\">103</td>,\n",
       " <td align=\"center\" bgcolor=\"white\" class=\"notranslate detail\" width=\"15%\">D</td>]"
      ]
     },
     "execution_count": 67,
     "metadata": {},
     "output_type": "execute_result"
    }
   ],
   "source": [
    "# Select only those 'td' tags with class 'detail' \n",
    "detail_cells = example_row.select('td.detail')\n",
    "detail_cells"
   ]
  },
  {
   "cell_type": "markdown",
   "metadata": {},
   "source": [
    "En este caso nos interesa el **texto** real de un sitio web, no sus etiquetas, para obtener el texto de un elemento HTML, usamos el `text`."
   ]
  },
  {
   "cell_type": "code",
   "execution_count": 68,
   "metadata": {},
   "outputs": [
    {
     "name": "stdout",
     "output_type": "stream",
     "text": [
      "['Carol Ammons', 'Bills', 'Committees', '103', 'D']\n"
     ]
    }
   ],
   "source": [
    "# Keep only the text in each of those cells\n",
    "row_data = [cell.text for cell in detail_cells]\n",
    "\n",
    "print(row_data)"
   ]
  },
  {
   "cell_type": "markdown",
   "metadata": {},
   "source": [
    "¡Se ve bien! Ahora obtenemos los elementos que necesitamos de esta lista."
   ]
  },
  {
   "cell_type": "code",
   "execution_count": 69,
   "metadata": {},
   "outputs": [
    {
     "name": "stdout",
     "output_type": "stream",
     "text": [
      "Carol Ammons\n",
      "Bills\n",
      "Committees\n",
      "103\n",
      "D\n"
     ]
    }
   ],
   "source": [
    "print(row_data[0]) # Name\n",
    "print(row_data[1]) # Bills\n",
    "print(row_data[2]) # Committees\n",
    "print(row_data[3]) # District\n",
    "print(row_data[4]) # Party"
   ]
  },
  {
   "cell_type": "markdown",
   "metadata": {},
   "source": [
    "## Eliminamos las filas basura\n",
    "\n",
    "Tendremos que hacer limpieza antes de continuar"
   ]
  },
  {
   "cell_type": "code",
   "execution_count": 70,
   "metadata": {},
   "outputs": [
    {
     "name": "stdout",
     "output_type": "stream",
     "text": [
      "Row 0:\n",
      " <tr><td colspan=\"5\">\n",
      "<span class=\"heading\">Current House Members</span>\n",
      "<span class=\"italics\">  104th General Assembly</span><br/>\n",
      "<!--Removed link for Current only temporarily at rollover- please leave Previous check in so at next rollover it still shows for previous ga-->\n",
      "<span class=\"content\"> <a href=\"104th_House_Officers.pdf\">Officers of the General Assembly</a></span><br/><span class=\"content\"><b>Democrats:</b> 78   <b>Republicans:</b> 40</span><br/>\n",
      "</td></tr> \n",
      "\n",
      "Row 1:\n",
      " <tr>\n",
      "<td class=\"header\" width=\"45%\"><a class=\"filetab\" href=\"javascript:Sort('LastName','',104);\" title=\"Sort by Representative\">Representative</a></td>\n",
      "<td align=\"center\" class=\"header\" width=\"15%\">Bills</td>\n",
      "<td align=\"center\" class=\"header\" width=\"10%\">Committees</td>\n",
      "<td align=\"center\" class=\"header\" width=\"15%\"><a class=\"filetab\" href=\"javascript:Sort('DistrictNumber','',104);\" title=\"Sort by District\">District</a></td>\n",
      "<td align=\"center\" class=\"header\" width=\"15%\"><a class=\"filetab\" href=\"javascript:Sort('Party','',104);\" title=\"Sort by Party\">Party</a></td>\n",
      "</tr> \n",
      "\n",
      "Last Row:\n",
      " <tr>\n",
      "<td align=\"left\" class=\"footer\" width=\"107\">  <img alt=\"Legislative Information System logo\" height=\"45\" src=\"/images/lislogo.jpg\" width=\"100\"/></td>\n",
      "<td align=\"\" class=\"footer\" valign=\"top\" width=\"100%\">This site is maintained for the Illinois General Assembly \n",
      "by the<br/>Legislative Information System, 705 Stratton Building, Springfield, Illinois 62706<br/>\n",
      "<a class=\"links\" href=\"mailto:webmaster@ilga.gov?subject=Email from ILGA Web\" style=\"font-size:8px\">\n",
      "      Contact ILGA Webmaster</a>\n",
      "</td>\n",
      "</tr>\n"
     ]
    }
   ],
   "source": [
    "print('Row 0:\\n', rows[0], '\\n')\n",
    "print('Row 1:\\n', rows[1], '\\n')\n",
    "print('Last Row:\\n', rows[-1])"
   ]
  },
  {
   "cell_type": "markdown",
   "metadata": {},
   "source": [
    "Debemos filtrar las filas irrelevantes. Para ello, comparamos algunas de estas con las filas que necesitamos, observamos sus diferencias y luego formulamos esto en una condición."
   ]
  },
  {
   "cell_type": "code",
   "execution_count": 71,
   "metadata": {},
   "outputs": [
    {
     "name": "stdout",
     "output_type": "stream",
     "text": [
      "1\n",
      "11\n",
      "5\n",
      "5\n"
     ]
    }
   ],
   "source": [
    "# Bad rows\n",
    "print(len(rows[0]))\n",
    "print(len(rows[1]))\n",
    "\n",
    "# Good rows\n",
    "print(len(rows[2]))\n",
    "print(len(rows[3]))"
   ]
  },
  {
   "cell_type": "markdown",
   "metadata": {},
   "source": [
    "Comprobamos las filas que necesitamos"
   ]
  },
  {
   "cell_type": "code",
   "execution_count": 72,
   "metadata": {},
   "outputs": [
    {
     "name": "stdout",
     "output_type": "stream",
     "text": [
      "<tr><td bgcolor=\"white\" class=\"detail\" width=\"40%\"><a class=\"notranslate\" href=\"/house/Rep.asp?GA=104&amp;MemberID=3309\">Carol Ammons</a></td><td align=\"center\" bgcolor=\"white\" class=\"detail\" width=\"15%\"><a href=\"RepBills.asp?MemberID=3309\">Bills</a></td><td align=\"center\" bgcolor=\"white\" class=\"detail\" width=\"15%\"><a href=\"RepCommittees.asp?MemberID=3309\">Committees</a></td><td align=\"center\" bgcolor=\"white\" class=\"notranslate detail\" width=\"15%\">103</td><td align=\"center\" bgcolor=\"white\" class=\"notranslate detail\" width=\"15%\">D</td></tr> \n",
      "\n",
      "<tr><td bgcolor=\"EBEBEB\" class=\"detail\" width=\"40%\"><a class=\"notranslate\" href=\"/house/Rep.asp?GA=104&amp;MemberID=3387\">Janet Yang Rohr</a></td><td align=\"center\" bgcolor=\"EBEBEB\" class=\"detail\" width=\"15%\"><a href=\"RepBills.asp?MemberID=3387\">Bills</a></td><td align=\"center\" bgcolor=\"EBEBEB\" class=\"detail\" width=\"15%\"><a href=\"RepCommittees.asp?MemberID=3387\">Committees</a></td><td align=\"center\" bgcolor=\"EBEBEB\" class=\"notranslate detail\" width=\"15%\">41</td><td align=\"center\" bgcolor=\"EBEBEB\" class=\"notranslate detail\" width=\"15%\">D</td></tr> \n",
      "\n",
      "<tr>\n",
      "<td align=\"left\" class=\"footer\" width=\"107\">  <img alt=\"Legislative Information System logo\" height=\"45\" src=\"/images/lislogo.jpg\" width=\"100\"/></td>\n",
      "<td align=\"\" class=\"footer\" valign=\"top\" width=\"100%\">This site is maintained for the Illinois General Assembly \n",
      "by the<br/>Legislative Information System, 705 Stratton Building, Springfield, Illinois 62706<br/>\n",
      "<a class=\"links\" href=\"mailto:webmaster@ilga.gov?subject=Email from ILGA Web\" style=\"font-size:8px\">\n",
      "      Contact ILGA Webmaster</a>\n",
      "</td>\n",
      "</tr>\n"
     ]
    }
   ],
   "source": [
    "good_rows = [row for row in rows if len(row) == 5]\n",
    "\n",
    "# Let's check some rows\n",
    "print(good_rows[0], '\\n')\n",
    "print(good_rows[-2], '\\n')\n",
    "print(good_rows[-1])"
   ]
  },
  {
   "cell_type": "markdown",
   "metadata": {},
   "source": [
    "Encontramos una fila de pie de página en nuestra lista que queremos evitar."
   ]
  },
  {
   "cell_type": "code",
   "execution_count": 73,
   "metadata": {},
   "outputs": [
    {
     "data": {
      "text/plain": [
       "[<td bgcolor=\"white\" class=\"detail\" width=\"40%\"><a class=\"notranslate\" href=\"/house/Rep.asp?GA=104&amp;MemberID=3309\">Carol Ammons</a></td>,\n",
       " <td align=\"center\" bgcolor=\"white\" class=\"detail\" width=\"15%\"><a href=\"RepBills.asp?MemberID=3309\">Bills</a></td>,\n",
       " <td align=\"center\" bgcolor=\"white\" class=\"detail\" width=\"15%\"><a href=\"RepCommittees.asp?MemberID=3309\">Committees</a></td>,\n",
       " <td align=\"center\" bgcolor=\"white\" class=\"notranslate detail\" width=\"15%\">103</td>,\n",
       " <td align=\"center\" bgcolor=\"white\" class=\"notranslate detail\" width=\"15%\">D</td>]"
      ]
     },
     "execution_count": 73,
     "metadata": {},
     "output_type": "execute_result"
    }
   ],
   "source": [
    "rows[2].select('td.detail') "
   ]
  },
  {
   "cell_type": "code",
   "execution_count": 74,
   "metadata": {},
   "outputs": [
    {
     "name": "stdout",
     "output_type": "stream",
     "text": [
      "[] \n",
      "\n",
      "[<td bgcolor=\"EBEBEB\" class=\"detail\" width=\"40%\"><a class=\"notranslate\" href=\"/house/Rep.asp?GA=104&amp;MemberID=3432\">Harry Benton</a></td>, <td align=\"center\" bgcolor=\"EBEBEB\" class=\"detail\" width=\"15%\"><a href=\"RepBills.asp?MemberID=3432\">Bills</a></td>, <td align=\"center\" bgcolor=\"EBEBEB\" class=\"detail\" width=\"15%\"><a href=\"RepCommittees.asp?MemberID=3432\">Committees</a></td>, <td align=\"center\" bgcolor=\"EBEBEB\" class=\"notranslate detail\" width=\"15%\">97</td>, <td align=\"center\" bgcolor=\"EBEBEB\" class=\"notranslate detail\" width=\"15%\">D</td>] \n",
      "\n",
      "Checking rows...\n",
      "\n",
      "<tr><td bgcolor=\"white\" class=\"detail\" width=\"40%\"><a class=\"notranslate\" href=\"/house/Rep.asp?GA=104&amp;MemberID=3309\">Carol Ammons</a></td><td align=\"center\" bgcolor=\"white\" class=\"detail\" width=\"15%\"><a href=\"RepBills.asp?MemberID=3309\">Bills</a></td><td align=\"center\" bgcolor=\"white\" class=\"detail\" width=\"15%\"><a href=\"RepCommittees.asp?MemberID=3309\">Committees</a></td><td align=\"center\" bgcolor=\"white\" class=\"notranslate detail\" width=\"15%\">103</td><td align=\"center\" bgcolor=\"white\" class=\"notranslate detail\" width=\"15%\">D</td></tr> \n",
      "\n",
      "<tr><td bgcolor=\"EBEBEB\" class=\"detail\" width=\"40%\"><a class=\"notranslate\" href=\"/house/Rep.asp?GA=104&amp;MemberID=3387\">Janet Yang Rohr</a></td><td align=\"center\" bgcolor=\"EBEBEB\" class=\"detail\" width=\"15%\"><a href=\"RepBills.asp?MemberID=3387\">Bills</a></td><td align=\"center\" bgcolor=\"EBEBEB\" class=\"detail\" width=\"15%\"><a href=\"RepCommittees.asp?MemberID=3387\">Committees</a></td><td align=\"center\" bgcolor=\"EBEBEB\" class=\"notranslate detail\" width=\"15%\">41</td><td align=\"center\" bgcolor=\"EBEBEB\" class=\"notranslate detail\" width=\"15%\">D</td></tr>\n"
     ]
    }
   ],
   "source": [
    "# Bad row\n",
    "print(rows[-1].select('td.detail'), '\\n')\n",
    "\n",
    "# Good row\n",
    "print(rows[5].select('td.detail'), '\\n')\n",
    "\n",
    "# How about this?\n",
    "good_rows = [row for row in rows if row.select('td.detail')]\n",
    "\n",
    "print(\"Checking rows...\\n\")\n",
    "print(good_rows[0], '\\n')\n",
    "print(good_rows[-1])"
   ]
  },
  {
   "cell_type": "markdown",
   "metadata": {},
   "source": [
    "Acabamos de eliminar la data que no necesitamos"
   ]
  },
  {
   "cell_type": "markdown",
   "metadata": {},
   "source": [
    "## Vamos a unir toda la Data\n",
    "Ahora que hemos visto cómo obtener los datos que queremos de una fila, así como filtrar las filas que no queremos, vamos a unirlo todo mediante un bucle."
   ]
  },
  {
   "cell_type": "code",
   "execution_count": 75,
   "metadata": {
    "tags": []
   },
   "outputs": [],
   "source": [
    "# Define storage list\n",
    "members = []\n",
    "\n",
    "# Get rid of junk rows\n",
    "valid_rows = [row for row in rows if row.select('td.detail')]\n",
    "\n",
    "# Loop through all rows\n",
    "for row in valid_rows:\n",
    "    # Select only those 'td' tags with class 'detail'\n",
    "    detail_cells = row.select('td.detail')\n",
    "    # Keep only the text in each of those cells\n",
    "    row_data = [cell.text for cell in detail_cells]\n",
    "    # Collect information\n",
    "    name = row_data[0]\n",
    "    committees = row_data[2]\t\n",
    "    district = int(row_data[3])\n",
    "    party = row_data[4]\n",
    "    # Store in a tuple\n",
    "    senator = (name, committees, district, party)\n",
    "    # Append to list\n",
    "    members.append(senator)"
   ]
  },
  {
   "cell_type": "code",
   "execution_count": 76,
   "metadata": {},
   "outputs": [
    {
     "name": "stdout",
     "output_type": "stream",
     "text": [
      "[('Carol Ammons', 'Committees', 103, 'D'), ('Jaime M. Andrade, Jr.', 'Committees', 40, 'D'), ('Dagmara Avelar', 'Committees', 85, 'D'), ('Harry Benton', 'Committees', 97, 'D'), ('Diane Blair-Sherlock', 'Committees', 46, 'D')]\n"
     ]
    }
   ],
   "source": [
    "print(members[:5])"
   ]
  },
  {
   "cell_type": "markdown",
   "metadata": {},
   "source": [
    "Como se puede observar la Data original tenía 136 elementos incluida la data mala y sin la Data mala tenemos 118 elmentos que son con los que vamos a trabajar."
   ]
  },
  {
   "cell_type": "code",
   "execution_count": 77,
   "metadata": {},
   "outputs": [
    {
     "name": "stdout",
     "output_type": "stream",
     "text": [
      "118\n"
     ]
    }
   ],
   "source": [
    "# Should be 61\n",
    "total_mimbros = len(members)\n",
    "print(total_mimbros)"
   ]
  },
  {
   "cell_type": "markdown",
   "metadata": {},
   "source": [
    "Como se observa se van a ingresar 118 elementos a nuestra base de Datos"
   ]
  },
  {
   "cell_type": "markdown",
   "metadata": {},
   "source": [
    "## 🎬 **Demostración:** **Creamos la Base de Datos para Ingresar nuestra DATA**"
   ]
  },
  {
   "cell_type": "markdown",
   "metadata": {},
   "source": [
    "Para crear la base de datos primero preparamos su entorno, instalamos el DBCODE, el cual nos va a pedir que se intregre a nuestro entorno las librerías que se necesitan, creamos una nueva base de datos la misma que llevará el nombre de **senadores_house_logs**, creamos su tabala con 5 campos para poder ingresar la data en ella y poder analizarla."
   ]
  },
  {
   "cell_type": "code",
   "execution_count": 78,
   "metadata": {},
   "outputs": [
    {
     "name": "stdout",
     "output_type": "stream",
     "text": [
      "La base de datos 'senadores_house_logs' ya existe.\n",
      "Tabla 'structured_logs' creada correctamente.\n",
      "Datos estructurados insertados correctamente.\n"
     ]
    }
   ],
   "source": [
    "import psycopg2\n",
    "import json\n",
    "from datetime import datetime\n",
    "\n",
    "# Paso 1: Crear la base de datos y la tabla desde Python\n",
    "def create_database_and_table():\n",
    "    try:\n",
    "        # Conexión al servidor PostgreSQL (sin especificar una base de datos)\n",
    "        conn = psycopg2.connect(\n",
    "            user=\"postgres\", # Usuario predeterminado\n",
    "            password=\"postgres\",\n",
    "            host=\"localhost\",\n",
    "            port=\"5432\"\n",
    "        )\n",
    "        conn.autocommit = True # Necesario para crear una base de datos\n",
    "        cursor = conn.cursor()\n",
    "\n",
    "        # Crear la base de datos \"SENADORES_HOUSE_logs\" si no existe\n",
    "        cursor.execute(\"SELECT datname FROM pg_database WHERE datname='senadores_house_logs';\")\n",
    "        if not cursor.fetchone():\n",
    "            cursor.execute(\"CREATE DATABASE senadores_house_logs;\")\n",
    "            print(\"Base de datos 'senadores_house_logs' creada correctamente.\")\n",
    "        else:\n",
    "            print(\"La base de datos 'senadores_house_logs' ya existe.\")\n",
    "\n",
    "        # Cerrar la conexión inicial\n",
    "        cursor.close()\n",
    "        conn.close()\n",
    "\n",
    "        # Conectar a la nueva base de datos\n",
    "        conn = psycopg2.connect(\n",
    "        database=\"senadores_house_logs\",\n",
    "        user=\"postgres\",\n",
    "        password=\"postgres\",\n",
    "        host=\"localhost\",\n",
    "        port=\"5432\"\n",
    "        )\n",
    "        cursor = conn.cursor()\n",
    "\n",
    "        cursor.execute(\"DROP TABLE IF EXISTS structured_logs;\")\n",
    "\n",
    "        # Crear la tabla \"structured_logs\" si no existe\n",
    "        cursor.execute(\"\"\"\n",
    "        CREATE TABLE IF NOT EXISTS structured_logs (\n",
    "        id SERIAL PRIMARY KEY,\n",
    "        name VARCHAR(100),\n",
    "        committees VARCHAR(250),\n",
    "        distrit INTEGER,\n",
    "        party TEXT\n",
    "        );\n",
    "        \"\"\")\n",
    "        print(\"Tabla 'structured_logs' creada correctamente.\")\n",
    "\n",
    "        # Confirmar cambios y cerrar la conexión\n",
    "        conn.commit()\n",
    "        cursor.close()\n",
    "        conn.close()\n",
    "\n",
    "    except Exception as e:\n",
    "        print(f\"Error al crear la base de datos o la tabla: {e}\")\n",
    "\n",
    "# Paso 2: Insertar datos estructurados en la tabla\n",
    "def insert_structured_logs():\n",
    "    try:\n",
    "        # Conectar a la base de datos\n",
    "        conn = psycopg2.connect(\n",
    "        database=\"senadores_house_logs\",\n",
    "        user=\"postgres\",\n",
    "        password=\"postgres\",\n",
    "        host=\"localhost\",\n",
    "        port=\"5432\"\n",
    "        )\n",
    "        cursor = conn.cursor()        \n",
    "\n",
    "        # Insertar registros en la tabla de acuerdo a la data extraída\n",
    "        cursor.executemany(\"\"\"\n",
    "            INSERT INTO structured_logs (name, committees, distrit, party)\n",
    "            VALUES (%s, %s, %s, %s);\n",
    "        \"\"\", members[:total_mimbros])\n",
    "\n",
    "        # Confirmar cambios y cerrar la conexión\n",
    "        conn.commit()\n",
    "        print(\"Datos estructurados insertados correctamente.\")\n",
    "        cursor.close()\n",
    "        conn.close()\n",
    "\n",
    "    except Exception as e:\n",
    "        print(f\"Error al insertar datos estructurados: {e}\")\n",
    "\n",
    "if __name__ == \"__main__\":\n",
    "    create_database_and_table() # Crear base de datos y tabla\n",
    "    insert_structured_logs() # Insertar datos estructurados\n",
    "    # save_unstructured_logs() # Guardar logs no estructurados"
   ]
  },
  {
   "cell_type": "markdown",
   "metadata": {},
   "source": [
    "Como se observa la Data ingresada a nuestra nueva base de Datos es de forma automática esto va a depender de la cantidad de información que tenga la página a ser analizada."
   ]
  },
  {
   "cell_type": "markdown",
   "metadata": {},
   "source": [
    "#### De preferencia se debe de verificar que la Data extraída y a ser analizada no sea muy pesada"
   ]
  },
  {
   "cell_type": "markdown",
   "metadata": {},
   "source": [
    "Echemos un vistazo a lo que tenemos en  `members`. Se corrobora que la Data ingresada es la mimsa del portal en análisis"
   ]
  },
  {
   "cell_type": "code",
   "execution_count": 79,
   "metadata": {},
   "outputs": [
    {
     "name": "stdout",
     "output_type": "stream",
     "text": [
      "[('Carol Ammons', 'Committees', 103, 'D'), ('Jaime M. Andrade, Jr.', 'Committees', 40, 'D'), ('Dagmara Avelar', 'Committees', 85, 'D'), ('Harry Benton', 'Committees', 97, 'D'), ('Diane Blair-Sherlock', 'Committees', 46, 'D')]\n"
     ]
    }
   ],
   "source": [
    "print(members[:5])"
   ]
  },
  {
   "cell_type": "markdown",
   "metadata": {},
   "source": [
    "### **Obtenemos la Data de la BASE para analizarla Gráficamente**\n",
    "Obtenemos la Data de la nueva base **senadores_house_logs**\n",
    "Se observa el % de Senadores Demócratas Vs Republicanos"
   ]
  },
  {
   "cell_type": "code",
   "execution_count": 80,
   "metadata": {},
   "outputs": [
    {
     "data": {
      "image/png": "[encoded data removed]",
      "text/plain": [
       "<Figure size 500x500 with 1 Axes>"
      ]
     },
     "metadata": {},
     "output_type": "display_data"
    }
   ],
   "source": [
    "import matplotlib.pyplot as plt\n",
    "import seaborn as sns\n",
    "import numpy as np\n",
    "import pandas as pd\n",
    "\n",
    "# Conectar a PostgreSQL y obtener los datos\n",
    "def get_data_from_db():\n",
    "    conn = psycopg2.connect(\n",
    "        database=\"senadores_house_logs\",\n",
    "        user=\"postgres\",\n",
    "        password=\"postgres\",\n",
    "        host=\"localhost\",\n",
    "        port=\"5432\"\n",
    "    )\n",
    "    cursor = conn.cursor()\n",
    "    \n",
    "    # Obtener distribución de senadores/casa por partido\n",
    "    cursor.execute(\"SELECT party, COUNT(*) FROM structured_logs GROUP BY party;\")\n",
    "    party_data = cursor.fetchall()\n",
    "    \n",
    "    # Obtener distribución de senadores/casa por distrito\n",
    "    cursor.execute(\"SELECT distrit, COUNT(*) FROM structured_logs GROUP BY distrit;\")\n",
    "    district_data = cursor.fetchall()\n",
    "    \n",
    "    conn.close()\n",
    "    return party_data, district_data\n",
    "\n",
    "# Graficar distribución de senadores/casa por partido\n",
    "def plot_pie_chart(party_data):\n",
    "    labels, sizes = zip(*party_data)\n",
    "    plt.figure(figsize=(5,5))\n",
    "    plt.pie(sizes, labels=labels, autopct='%1.1f%%', startangle=140, colors=sns.color_palette(\"pastel\"))\n",
    "    plt.title(\"Distribución de Senadores/Casa por Partido\")\n",
    "    plt.show()\n",
    "if __name__ == \"__main__\":\n",
    "    party_data, district_data = get_data_from_db()\n",
    "    plot_pie_chart(party_data)"
   ]
  },
  {
   "cell_type": "markdown",
   "metadata": {},
   "source": [
    "Verificamos La cantidad de Senadores por partido"
   ]
  },
  {
   "cell_type": "code",
   "execution_count": 81,
   "metadata": {},
   "outputs": [
    {
     "data": {
      "image/png": "[encoded data removed]",
      "text/plain": [
       "<Figure size 500x500 with 1 Axes>"
      ]
     },
     "metadata": {},
     "output_type": "display_data"
    }
   ],
   "source": [
    "# Conectar a PostgreSQL y obtener los datos\n",
    "def get_data_from_db():\n",
    "    conn = psycopg2.connect(\n",
    "        database=\"senadores_house_logs\",\n",
    "        user=\"postgres\",\n",
    "        password=\"postgres\",\n",
    "        host=\"localhost\",\n",
    "        port=\"5432\"\n",
    "    )\n",
    "    cursor = conn.cursor()\n",
    "    \n",
    "    # Obtener distribución de senadores/casa por partido\n",
    "    cursor.execute(\"SELECT party, COUNT(*) FROM structured_logs GROUP BY party;\")\n",
    "    party_data = cursor.fetchall()\n",
    "    \n",
    "    # Obtener distribución de senadores/casa por distrito\n",
    "    cursor.execute(\"SELECT distrit, COUNT(*) FROM structured_logs GROUP BY distrit;\")\n",
    "    district_data = cursor.fetchall()\n",
    "    \n",
    "    conn.close()\n",
    "    return party_data, district_data\n",
    "\n",
    "# Graficar distribución triangular\n",
    "def plot_triangular_chart(party_data):\n",
    "    labels, sizes = zip(*party_data)\n",
    "    angles = np.linspace(0, 2 * np.pi, len(labels), endpoint=False).tolist()\n",
    "    sizes += sizes[:1]\n",
    "    angles += angles[:1]\n",
    "    \n",
    "    fig, ax = plt.subplots(figsize=(5,5), subplot_kw={'projection': 'polar'})\n",
    "    ax.fill(angles, sizes, color='lightblue', alpha=0.6)\n",
    "    ax.set_xticks(angles[:-1])\n",
    "    ax.set_xticklabels(labels)\n",
    "    plt.title(\"Distribución Triangular de Senadores/Casa\")\n",
    "    plt.show()\n",
    "\n",
    "if __name__ == \"__main__\":\n",
    "    party_data, district_data = get_data_from_db()\n",
    "    plot_triangular_chart(party_data)"
   ]
  },
  {
   "cell_type": "markdown",
   "metadata": {},
   "source": [
    "Revisamos la Actividad Por Distrito y por Partido"
   ]
  },
  {
   "cell_type": "code",
   "execution_count": 82,
   "metadata": {},
   "outputs": [
    {
     "data": {
      "image/png": "[encoded data removed]",
      "text/plain": [
       "<Figure size 1200x600 with 2 Axes>"
      ]
     },
     "metadata": {},
     "output_type": "display_data"
    }
   ],
   "source": [
    "def fetch_data():\n",
    "    try:\n",
    "        # Conectar a la base de datos\n",
    "        conn = psycopg2.connect(\n",
    "            database=\"senadores_house_logs\",\n",
    "            user=\"postgres\",\n",
    "            password=\"postgres\",\n",
    "            host=\"localhost\",\n",
    "            port=\"5432\"\n",
    "        )\n",
    "        cursor = conn.cursor()\n",
    "        \n",
    "        # Consultar los datos\n",
    "        query = \"SELECT name, committees, distrit, party FROM structured_logs;\"\n",
    "        cursor.execute(query)\n",
    "        \n",
    "        # Cargar datos en un DataFrame\n",
    "        data = cursor.fetchall()\n",
    "        df = pd.DataFrame(data, columns=[\"name\", \"committees\", \"distrit\", \"party\"])\n",
    "        \n",
    "        cursor.close()\n",
    "        conn.close()\n",
    "        \n",
    "        return df\n",
    "    except Exception as e:\n",
    "        print(f\"Error al obtener datos: {e}\")\n",
    "        return None\n",
    "\n",
    "def plot_heatmap(df):\n",
    "    plt.figure(figsize=(12, 6))\n",
    "    \n",
    "    # Contar la frecuencia de cada combinación distrito-partido\n",
    "    heatmap_data = df.groupby([\"distrit\", \"party\"]).size().unstack(fill_value=0)\n",
    "    \n",
    "    sns.heatmap(heatmap_data, cmap=\"YlOrRd\", annot=True, fmt=\"d\")\n",
    "    # sns.heatmap(heatmap_data, annot=True, cmap=\"Blues\", fmt=\"d\")\n",
    "    plt.title(\"Mapa de Calor: Actividad por Distrito y Partido\")\n",
    "    plt.xlabel(\"Partido\")\n",
    "    plt.ylabel(\"Distrito\")\n",
    "    plt.xticks(rotation=45)\n",
    "    \n",
    "    plt.show()\n",
    "\n",
    "if __name__ == \"__main__\":\n",
    "    df = fetch_data()\n",
    "    if df is not None and not df.empty:\n",
    "        plot_heatmap(df)\n",
    "    else:\n",
    "        print(\"No hay datos disponibles para generar el mapa de calor.\")"
   ]
  },
  {
   "cell_type": "markdown",
   "metadata": {},
   "source": [
    "Verificamos la Distribusión de Senadores por Partido"
   ]
  },
  {
   "cell_type": "code",
   "execution_count": 83,
   "metadata": {},
   "outputs": [
    {
     "data": {
      "image/png": "[encoded data removed]",
      "text/plain": [
       "<Figure size 500x300 with 1 Axes>"
      ]
     },
     "metadata": {},
     "output_type": "display_data"
    }
   ],
   "source": [
    "# Conectar a PostgreSQL y obtener los datos\n",
    "def get_data_from_db():\n",
    "    conn = psycopg2.connect(\n",
    "        database=\"senadores_house_logs\",\n",
    "        user=\"postgres\",\n",
    "        password=\"postgres\",\n",
    "        host=\"localhost\",\n",
    "        port=\"5432\"\n",
    "    )\n",
    "    cursor = conn.cursor()\n",
    "    \n",
    "    # Obtener distribución de senadores/casa por partido\n",
    "    cursor.execute(\"SELECT party, COUNT(*) FROM structured_logs GROUP BY party;\")\n",
    "    party_data = cursor.fetchall()\n",
    "    \n",
    "    # Obtener distribución de senadores/casa por distrito\n",
    "    cursor.execute(\"SELECT distrit, COUNT(*) FROM structured_logs GROUP BY distrit;\")\n",
    "    district_data = cursor.fetchall()\n",
    "    \n",
    "    conn.close()\n",
    "    return party_data, district_data\n",
    "\n",
    "# Graficar distribución de senadores por partido en un gráfico de barras\n",
    "def plot_bar_chart(party_data):\n",
    "    labels, sizes = zip(*party_data)\n",
    "\n",
    "    # Generar una lista de colores diferentes para las barras\n",
    "    colors = plt.cm.tab20c(np.linspace(0, 1, len(labels)))  # Usando una paleta de colores distinta\n",
    "\n",
    "    plt.figure(figsize=(5,3))\n",
    "    plt.bar(labels, sizes, color=colors)\n",
    "    plt.xlabel('Partido')\n",
    "    plt.ylabel('Número de Senadores')\n",
    "    plt.title('Distribución de Senadores por Partido con Diferentes Colores')\n",
    "    plt.show()\n",
    "\n",
    "if __name__ == \"__main__\":\n",
    "    party_data, district_data = get_data_from_db()\n",
    "   \n",
    "    # Graficar la distribución de senadores por partido con diferentes colores\n",
    "    plot_bar_chart(party_data)"
   ]
  }
 ],
 "metadata": {
  "anaconda-cloud": {},
  "kernelspec": {
   "display_name": "base",
   "language": "python",
   "name": "python3"
  },
  "language_info": {
   "codemirror_mode": {
    "name": "ipython",
    "version": 3
   },
   "file_extension": ".py",
   "mimetype": "text/x-python",
   "name": "python",
   "nbconvert_exporter": "python",
   "pygments_lexer": "ipython3",
   "version": "3.12.7"
  }
 },
 "nbformat": 4,
 "nbformat_minor": 4
}
